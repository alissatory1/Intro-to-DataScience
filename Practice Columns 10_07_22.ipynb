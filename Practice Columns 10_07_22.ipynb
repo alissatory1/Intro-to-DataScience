{
 "cells": [
  {
   "cell_type": "code",
   "execution_count": 1,
   "id": "ebde8a32",
   "metadata": {},
   "outputs": [],
   "source": [
    "import pandas as pd\n",
    "import numpy as np"
   ]
  },
  {
   "cell_type": "code",
   "execution_count": 2,
   "id": "2904a869",
   "metadata": {},
   "outputs": [],
   "source": [
    "nutrition= {'Breakfast':[\"Waffle\", \"Pancake\", \"French Toast\", \"Fruit\", \"Eggs\"], 'Calories':[220,159,205,55,95],'Rating':[5,3.5,4.5,2,3.5]}\n"
   ]
  },
  {
   "cell_type": "code",
   "execution_count": 3,
   "id": "aa2b3c0c",
   "metadata": {},
   "outputs": [
    {
     "name": "stdout",
     "output_type": "stream",
     "text": [
      "      Breakfast  Calories  Rating\n",
      "0        Waffle       220     5.0\n",
      "1       Pancake       159     3.5\n",
      "2  French Toast       205     4.5\n",
      "3         Fruit        55     2.0\n",
      "4          Eggs        95     3.5\n"
     ]
    }
   ],
   "source": [
    "df = pd.DataFrame(nutrition)\n",
    "print(df)"
   ]
  },
  {
   "cell_type": "code",
   "execution_count": null,
   "id": "49cdb1d7",
   "metadata": {},
   "outputs": [],
   "source": []
  }
 ],
 "metadata": {
  "kernelspec": {
   "display_name": "Python 3 (ipykernel)",
   "language": "python",
   "name": "python3"
  },
  "language_info": {
   "codemirror_mode": {
    "name": "ipython",
    "version": 3
   },
   "file_extension": ".py",
   "mimetype": "text/x-python",
   "name": "python",
   "nbconvert_exporter": "python",
   "pygments_lexer": "ipython3",
   "version": "3.9.12"
  }
 },
 "nbformat": 4,
 "nbformat_minor": 5
}
