{
 "cells": [
  {
   "cell_type": "markdown",
   "id": "6e8c5adc",
   "metadata": {},
   "source": [
    "## NumPy\n",
    "\n",
    "NumPy (or Numpy) is a Linear Algebra Library for Python, the reason it is so important for Data Science with Python is that almost all of the libraries in the PyData Ecosystem rely on NumPy as one opf their main building blocks. "
   ]
  },
  {
   "cell_type": "code",
   "execution_count": 1,
   "id": "8e112836",
   "metadata": {},
   "outputs": [],
   "source": [
    "import numpy as np"
   ]
  },
  {
   "cell_type": "code",
   "execution_count": 3,
   "id": "a634743f",
   "metadata": {},
   "outputs": [
    {
     "data": {
      "text/plain": [
       "list"
      ]
     },
     "execution_count": 3,
     "metadata": {},
     "output_type": "execute_result"
    }
   ],
   "source": [
    "mylist = [i for i in range(10)]\n",
    "type(mylist)"
   ]
  },
  {
   "cell_type": "code",
   "execution_count": 4,
   "id": "bc405a5b",
   "metadata": {},
   "outputs": [
    {
     "data": {
      "text/plain": [
       "[0, 1, 2, 3, 4, 5, 6, 7, 8, 9, 0, 1, 2, 3, 4, 5, 6, 7, 8, 9]"
      ]
     },
     "execution_count": 4,
     "metadata": {},
     "output_type": "execute_result"
    }
   ],
   "source": [
    "mylist*2"
   ]
  },
  {
   "cell_type": "code",
   "execution_count": 5,
   "id": "3ad4e9ed",
   "metadata": {},
   "outputs": [
    {
     "data": {
      "text/plain": [
       "numpy.ndarray"
      ]
     },
     "execution_count": 5,
     "metadata": {},
     "output_type": "execute_result"
    }
   ],
   "source": [
    "myarray = np.array(mylist)\n",
    "type(myarray)"
   ]
  },
  {
   "cell_type": "code",
   "execution_count": 6,
   "id": "c3997e5b",
   "metadata": {},
   "outputs": [
    {
     "data": {
      "text/plain": [
       "array([0.        , 1.        , 1.41421356, 1.73205081, 2.        ,\n",
       "       2.23606798, 2.44948974, 2.64575131, 2.82842712, 3.        ])"
      ]
     },
     "execution_count": 6,
     "metadata": {},
     "output_type": "execute_result"
    }
   ],
   "source": [
    "myarray**0.5"
   ]
  },
  {
   "cell_type": "code",
   "execution_count": 7,
   "id": "13a048af",
   "metadata": {},
   "outputs": [
    {
     "data": {
      "text/plain": [
       "array([[ 0,  1,  5],\n",
       "       [-2,  1,  4],\n",
       "       [ 7,  8,  9]])"
      ]
     },
     "execution_count": 7,
     "metadata": {},
     "output_type": "execute_result"
    }
   ],
   "source": [
    "mymatrix = np.array([[0,1,5],[-2,1,4],[7,8,9]])\n",
    "mymatrix"
   ]
  },
  {
   "cell_type": "code",
   "execution_count": 8,
   "id": "e8336589",
   "metadata": {},
   "outputs": [
    {
     "data": {
      "text/plain": [
       "array([[ 0],\n",
       "       [-2],\n",
       "       [ 7]])"
      ]
     },
     "execution_count": 8,
     "metadata": {},
     "output_type": "execute_result"
    }
   ],
   "source": [
    "mymatrix[:,0:1]"
   ]
  },
  {
   "cell_type": "code",
   "execution_count": 11,
   "id": "c1583c9d",
   "metadata": {},
   "outputs": [
    {
     "data": {
      "text/plain": [
       "array([[1],\n",
       "       [1],\n",
       "       [8]])"
      ]
     },
     "execution_count": 11,
     "metadata": {},
     "output_type": "execute_result"
    }
   ],
   "source": [
    "mymatrix[:,1:2] "
   ]
  },
  {
   "cell_type": "code",
   "execution_count": 12,
   "id": "7db8f6be",
   "metadata": {},
   "outputs": [
    {
     "data": {
      "text/plain": [
       "array([[5],\n",
       "       [4]])"
      ]
     },
     "execution_count": 12,
     "metadata": {},
     "output_type": "execute_result"
    }
   ],
   "source": [
    "mymatrix[0:2:,2:3] "
   ]
  },
  {
   "cell_type": "code",
   "execution_count": 16,
   "id": "af23e8b1",
   "metadata": {},
   "outputs": [
    {
     "data": {
      "text/plain": [
       "array([[ 0,  1,  5],\n",
       "       [-2,  1,  4],\n",
       "       [ 7,  8,  9]])"
      ]
     },
     "execution_count": 16,
     "metadata": {},
     "output_type": "execute_result"
    }
   ],
   "source": [
    "mymatrix[:,:]"
   ]
  },
  {
   "cell_type": "markdown",
   "id": "ff7332a8",
   "metadata": {},
   "source": [
    "^ all columns "
   ]
  },
  {
   "cell_type": "markdown",
   "id": "32bab465",
   "metadata": {},
   "source": [
    "## Built in Methods\n",
    "there are lots of built-in ways to generate Arrays\n",
    "\n",
    "## arrange\n",
    "return evenly spaced values within a given interval"
   ]
  },
  {
   "cell_type": "code",
   "execution_count": 18,
   "id": "5ccd69fe",
   "metadata": {},
   "outputs": [
    {
     "data": {
      "text/plain": [
       "array([0, 1, 2, 3, 4, 5, 6, 7, 8, 9])"
      ]
     },
     "execution_count": 18,
     "metadata": {},
     "output_type": "execute_result"
    }
   ],
   "source": [
    "myarange = np.arange(10)\n",
    "myarange"
   ]
  },
  {
   "cell_type": "code",
   "execution_count": 20,
   "id": "a40bcabd",
   "metadata": {},
   "outputs": [
    {
     "data": {
      "text/plain": [
       "array([0, 2, 4, 6, 8])"
      ]
     },
     "execution_count": 20,
     "metadata": {},
     "output_type": "execute_result"
    }
   ],
   "source": [
    "myrangestep = np.arange(0,10,2)\n",
    "myrangestep"
   ]
  },
  {
   "cell_type": "markdown",
   "id": "ab004ec6",
   "metadata": {},
   "source": [
    "## zeros and ones\n",
    "Generate arrays of zeros or ones"
   ]
  },
  {
   "cell_type": "code",
   "execution_count": 25,
   "id": "22cb386f",
   "metadata": {},
   "outputs": [
    {
     "data": {
      "text/plain": [
       "array([0., 0., 0., 0.])"
      ]
     },
     "execution_count": 25,
     "metadata": {},
     "output_type": "execute_result"
    }
   ],
   "source": [
    "Z = np.zeros(4)\n",
    "Z"
   ]
  },
  {
   "cell_type": "code",
   "execution_count": 26,
   "id": "84c8bc8b",
   "metadata": {},
   "outputs": [
    {
     "data": {
      "text/plain": [
       "array([[0., 0., 0.],\n",
       "       [0., 0., 0.],\n",
       "       [0., 0., 0.]])"
      ]
     },
     "execution_count": 26,
     "metadata": {},
     "output_type": "execute_result"
    }
   ],
   "source": [
    "Z3 = np.zeros((3,3))\n",
    "Z3"
   ]
  },
  {
   "cell_type": "code",
   "execution_count": 27,
   "id": "ee8e03db",
   "metadata": {},
   "outputs": [
    {
     "data": {
      "text/plain": [
       "array([1., 1., 1., 1., 1.])"
      ]
     },
     "execution_count": 27,
     "metadata": {},
     "output_type": "execute_result"
    }
   ],
   "source": [
    "O1 = np.ones(5)\n",
    "O1"
   ]
  },
  {
   "cell_type": "code",
   "execution_count": 28,
   "id": "0c96fd7e",
   "metadata": {},
   "outputs": [
    {
     "data": {
      "text/plain": [
       "array([[1., 1., 1., 1., 1., 1.],\n",
       "       [1., 1., 1., 1., 1., 1.],\n",
       "       [1., 1., 1., 1., 1., 1.],\n",
       "       [1., 1., 1., 1., 1., 1.],\n",
       "       [1., 1., 1., 1., 1., 1.],\n",
       "       [1., 1., 1., 1., 1., 1.]])"
      ]
     },
     "execution_count": 28,
     "metadata": {},
     "output_type": "execute_result"
    }
   ],
   "source": [
    "O6 = np.ones((6,6))\n",
    "O6"
   ]
  },
  {
   "cell_type": "markdown",
   "id": "0973480e",
   "metadata": {},
   "source": [
    "## linspace \n",
    "return evenly spaced numbers over a specified interval."
   ]
  },
  {
   "cell_type": "code",
   "execution_count": 29,
   "id": "136c0a37",
   "metadata": {},
   "outputs": [
    {
     "data": {
      "text/plain": [
       "array([ 0.        ,  2.77777778,  5.55555556,  8.33333333, 11.11111111,\n",
       "       13.88888889, 16.66666667, 19.44444444, 22.22222222, 25.        ])"
      ]
     },
     "execution_count": 29,
     "metadata": {},
     "output_type": "execute_result"
    }
   ],
   "source": [
    "L = np.linspace(0,25,10)\n",
    "L"
   ]
  },
  {
   "cell_type": "code",
   "execution_count": 30,
   "id": "2e210c0b",
   "metadata": {},
   "outputs": [
    {
     "data": {
      "text/plain": [
       "array([ 0.        ,  1.04166667,  2.08333333,  3.125     ,  4.16666667,\n",
       "        5.20833333,  6.25      ,  7.29166667,  8.33333333,  9.375     ,\n",
       "       10.41666667, 11.45833333, 12.5       , 13.54166667, 14.58333333,\n",
       "       15.625     , 16.66666667, 17.70833333, 18.75      , 19.79166667,\n",
       "       20.83333333, 21.875     , 22.91666667, 23.95833333, 25.        ])"
      ]
     },
     "execution_count": 30,
     "metadata": {},
     "output_type": "execute_result"
    }
   ],
   "source": [
    "L = np.linspace(0,25,25)\n",
    "L"
   ]
  },
  {
   "cell_type": "code",
   "execution_count": 31,
   "id": "493394ce",
   "metadata": {},
   "outputs": [
    {
     "data": {
      "text/plain": [
       "array([ 1.,  2.,  3.,  4.,  5.,  6.,  7.,  8.,  9., 10., 11., 12., 13.,\n",
       "       14., 15., 16., 17., 18., 19., 20., 21., 22., 23., 24., 25.])"
      ]
     },
     "execution_count": 31,
     "metadata": {},
     "output_type": "execute_result"
    }
   ],
   "source": [
    "L = np.linspace(1,25,25)\n",
    "L"
   ]
  },
  {
   "cell_type": "code",
   "execution_count": 34,
   "id": "c97917fd",
   "metadata": {},
   "outputs": [
    {
     "data": {
      "text/plain": [
       "array([ 1.,  4.,  7., 10., 13., 16., 19., 22., 25.])"
      ]
     },
     "execution_count": 34,
     "metadata": {},
     "output_type": "execute_result"
    }
   ],
   "source": [
    "L = np.linspace(1,25,9)\n",
    "L"
   ]
  },
  {
   "cell_type": "code",
   "execution_count": 35,
   "id": "831c1d27",
   "metadata": {},
   "outputs": [
    {
     "data": {
      "text/plain": [
       "array([[ 1.,  4.,  7.],\n",
       "       [10., 13., 16.],\n",
       "       [19., 22., 25.]])"
      ]
     },
     "execution_count": 35,
     "metadata": {},
     "output_type": "execute_result"
    }
   ],
   "source": [
    "L3 = L.reshape(3,3)\n",
    "L3"
   ]
  },
  {
   "cell_type": "markdown",
   "id": "51039f39",
   "metadata": {},
   "source": [
    "## eye \n",
    "creates an identity matrix"
   ]
  },
  {
   "cell_type": "code",
   "execution_count": 38,
   "id": "b785e33e",
   "metadata": {},
   "outputs": [
    {
     "data": {
      "text/plain": [
       "array([[1., 0.],\n",
       "       [0., 1.]])"
      ]
     },
     "execution_count": 38,
     "metadata": {},
     "output_type": "execute_result"
    }
   ],
   "source": [
    "I2 =np.eye(2) \n",
    "I2"
   ]
  },
  {
   "cell_type": "code",
   "execution_count": 39,
   "id": "002e705e",
   "metadata": {},
   "outputs": [
    {
     "data": {
      "text/plain": [
       "array([[1., 0., 0., 0.],\n",
       "       [0., 1., 0., 0.],\n",
       "       [0., 0., 1., 0.],\n",
       "       [0., 0., 0., 1.]])"
      ]
     },
     "execution_count": 39,
     "metadata": {},
     "output_type": "execute_result"
    }
   ],
   "source": [
    "I4 = np.eye(4)\n",
    "I4"
   ]
  },
  {
   "cell_type": "code",
   "execution_count": 40,
   "id": "bdd6c7c7",
   "metadata": {},
   "outputs": [
    {
     "data": {
      "text/plain": [
       "array([[1., 0., 0.],\n",
       "       [0., 1., 0.],\n",
       "       [0., 0., 1.],\n",
       "       [0., 0., 0.]])"
      ]
     },
     "execution_count": 40,
     "metadata": {},
     "output_type": "execute_result"
    }
   ],
   "source": [
    "I43 = np.eye(4,3)\n",
    "I43"
   ]
  },
  {
   "cell_type": "code",
   "execution_count": 41,
   "id": "6d5d6675",
   "metadata": {},
   "outputs": [
    {
     "data": {
      "text/plain": [
       "array([[1., 0.],\n",
       "       [0., 1.]])"
      ]
     },
     "execution_count": 41,
     "metadata": {},
     "output_type": "execute_result"
    }
   ],
   "source": [
    "I43[0:2,0:2] "
   ]
  },
  {
   "cell_type": "markdown",
   "id": "a8fec459",
   "metadata": {},
   "source": [
    "## Random \n",
    "numpy also has lots of ways to create random number arrays:\n",
    "\n",
    "## rand \n",
    "\n",
    "create an array of the given shape and populate it with randrom samples from a uniform distribution over [0,1)"
   ]
  },
  {
   "cell_type": "code",
   "execution_count": 42,
   "id": "aafd776d",
   "metadata": {},
   "outputs": [],
   "source": [
    "import random"
   ]
  },
  {
   "cell_type": "code",
   "execution_count": 43,
   "id": "b9bd918a",
   "metadata": {},
   "outputs": [
    {
     "data": {
      "text/plain": [
       "array([[0.14832471, 0.74380254, 0.05410669, 0.43448624],\n",
       "       [0.40478451, 0.04936158, 0.68042229, 0.46536741],\n",
       "       [0.36666433, 0.91962622, 0.16146395, 0.3855368 ]])"
      ]
     },
     "execution_count": 43,
     "metadata": {},
     "output_type": "execute_result"
    }
   ],
   "source": [
    "arr = np.random.rand(3,4)\n",
    "arr "
   ]
  },
  {
   "cell_type": "code",
   "execution_count": 44,
   "id": "90e9052f",
   "metadata": {},
   "outputs": [],
   "source": [
    "from numpy.random import rand "
   ]
  },
  {
   "cell_type": "code",
   "execution_count": 45,
   "id": "fb88a36f",
   "metadata": {},
   "outputs": [
    {
     "data": {
      "text/plain": [
       "array([[0.49529923, 0.60290216, 0.73583156, 0.59316527],\n",
       "       [0.32779741, 0.34879348, 0.07837915, 0.42035668],\n",
       "       [0.35852711, 0.1660998 , 0.90529773, 0.65261517]])"
      ]
     },
     "execution_count": 45,
     "metadata": {},
     "output_type": "execute_result"
    }
   ],
   "source": [
    "arr_simple = rand(3,4)\n",
    "arr_simple "
   ]
  },
  {
   "cell_type": "markdown",
   "id": "8ae5c574",
   "metadata": {},
   "source": [
    "## randn \n",
    "return a sample (or samples) from the \"standard normal\" distribution. Unlike rand which is uniform:"
   ]
  },
  {
   "cell_type": "code",
   "execution_count": 46,
   "id": "06499253",
   "metadata": {},
   "outputs": [],
   "source": [
    "from numpy.random import randn "
   ]
  },
  {
   "cell_type": "code",
   "execution_count": 47,
   "id": "f7ec548c",
   "metadata": {},
   "outputs": [
    {
     "data": {
      "text/plain": [
       "array([[ 1.10310402,  0.65044531],\n",
       "       [ 0.15943321,  0.91218031],\n",
       "       [ 0.4086291 , -2.35842877]])"
      ]
     },
     "execution_count": 47,
     "metadata": {},
     "output_type": "execute_result"
    }
   ],
   "source": [
    "mat = randn(3,2)\n",
    "mat"
   ]
  },
  {
   "cell_type": "code",
   "execution_count": null,
   "id": "ac1a23dc",
   "metadata": {},
   "outputs": [],
   "source": []
  },
  {
   "cell_type": "code",
   "execution_count": null,
   "id": "b785e459",
   "metadata": {},
   "outputs": [],
   "source": []
  }
 ],
 "metadata": {
  "kernelspec": {
   "display_name": "Python 3 (ipykernel)",
   "language": "python",
   "name": "python3"
  },
  "language_info": {
   "codemirror_mode": {
    "name": "ipython",
    "version": 3
   },
   "file_extension": ".py",
   "mimetype": "text/x-python",
   "name": "python",
   "nbconvert_exporter": "python",
   "pygments_lexer": "ipython3",
   "version": "3.9.12"
  }
 },
 "nbformat": 4,
 "nbformat_minor": 5
}
