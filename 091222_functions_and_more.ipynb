{
 "cells": [
  {
   "cell_type": "markdown",
   "id": "98b237e3",
   "metadata": {},
   "source": [
    "# * Basic Operations \n",
    "* Comparison Operators \n",
    "* if, elif, else statements \n",
    "* for loops\n",
    "* while loops\n",
    "* range() \n",
    "* list comprehension\n",
    "* functions \n",
    "* lambda expressions\n",
    "* map and filter\n",
    "\n",
    "\n",
    "* Range()"
   ]
  },
  {
   "cell_type": "code",
   "execution_count": null,
   "id": "42636715",
   "metadata": {},
   "outputs": [],
   "source": [
    "range(1,11) # This will return 1,2,3,4,5,6,7,8,9,10\n",
    "#Will return Numbers between 1  and 11 excluded \n"
   ]
  },
  {
   "cell_type": "code",
   "execution_count": null,
   "id": "275ad77e",
   "metadata": {},
   "outputs": [],
   "source": [
    "range(1,11,2) # This will return 1,3,5,7,9 "
   ]
  },
  {
   "cell_type": "code",
   "execution_count": null,
   "id": "2f3ad884",
   "metadata": {},
   "outputs": [],
   "source": [
    "for num in range (1,11):\n",
    "    print (num)"
   ]
  },
  {
   "cell_type": "code",
   "execution_count": null,
   "id": "122e353c",
   "metadata": {},
   "outputs": [],
   "source": [
    "for _ in range (1,11): \n",
    "    print (_)"
   ]
  },
  {
   "cell_type": "code",
   "execution_count": null,
   "id": "6de5f9e0",
   "metadata": {},
   "outputs": [],
   "source": [
    "for num in range (1,11,2):\n",
    "    print (num**2)"
   ]
  },
  {
   "cell_type": "code",
   "execution_count": null,
   "id": "b85ed2d0",
   "metadata": {},
   "outputs": [],
   "source": [
    "for num in range (1,12,2):\n",
    "    print (num**2)"
   ]
  },
  {
   "cell_type": "code",
   "execution_count": null,
   "id": "964d8130",
   "metadata": {},
   "outputs": [],
   "source": [
    "for num in range (1,11,3):\n",
    "    if num % 2== 0:\n",
    "        print ('Even number')\n",
    "    else:\n",
    "        print ('Odd number')"
   ]
  },
  {
   "cell_type": "markdown",
   "id": "9c4a4a7e",
   "metadata": {},
   "source": [
    "* ## While Loops"
   ]
  },
  {
   "cell_type": "code",
   "execution_count": null,
   "id": "c683a37d",
   "metadata": {},
   "outputs": [],
   "source": [
    "num = 1\n",
    "while num <11:\n",
    "    print(num) \n",
    "    num = num+1\n",
    "    #num += 1 "
   ]
  },
  {
   "cell_type": "code",
   "execution_count": null,
   "id": "dbc73309",
   "metadata": {},
   "outputs": [],
   "source": []
  },
  {
   "cell_type": "code",
   "execution_count": 14,
   "id": "e21392d9",
   "metadata": {},
   "outputs": [
    {
     "name": "stdout",
     "output_type": "stream",
     "text": [
      "Odd number\n",
      "Even number\n",
      "Odd number\n",
      "Even number\n",
      "Odd number\n",
      "Even number\n",
      "Odd number\n",
      "Even number\n",
      "Odd number\n",
      "Even number\n"
     ]
    }
   ],
   "source": [
    "num = 1\n",
    "while num <11:\n",
    "    if num %2 != 0:\n",
    "        print ('Odd number')\n",
    "    else:\n",
    "        print ('Even number') \n",
    "    num = num+1"
   ]
  },
  {
   "cell_type": "markdown",
   "id": "db7c73e5",
   "metadata": {},
   "source": [
    "* # List Comprehension"
   ]
  },
  {
   "cell_type": "code",
   "execution_count": null,
   "id": "ff593689",
   "metadata": {},
   "outputs": [],
   "source": [
    "for num in range (1,11,3):\n",
    "    if num % 2== 0:\n",
    "        print ('Even number')\n",
    "    else:\n",
    "        print ('Odd number')"
   ]
  },
  {
   "cell_type": "code",
   "execution_count": 17,
   "id": "5c84546d",
   "metadata": {},
   "outputs": [
    {
     "name": "stdout",
     "output_type": "stream",
     "text": [
      "Even Number\n",
      "Odd Number\n",
      "Even Number\n",
      "Odd Number\n",
      "Even Number\n",
      "Odd Number\n",
      "Even Number\n",
      "Odd Number\n",
      "Even Number\n",
      "Odd Number\n",
      "Even Number\n"
     ]
    },
    {
     "data": {
      "text/plain": [
       "[None, None, None, None, None, None, None, None, None, None, None]"
      ]
     },
     "execution_count": 17,
     "metadata": {},
     "output_type": "execute_result"
    }
   ],
   "source": [
    "[print('Even Number')if num %2 == 0 else print('Odd Number')for num in range(11)]"
   ]
  },
  {
   "cell_type": "code",
   "execution_count": 1,
   "id": "0055042b",
   "metadata": {},
   "outputs": [
    {
     "name": "stdout",
     "output_type": "stream",
     "text": [
      "[1, 4, 9, 16, 25, 36, 49, 64, 81, 100]\n"
     ]
    }
   ],
   "source": [
    "my_list= []\n",
    "for num in range(1,11,1):\n",
    "    my_list.append(num**2)\n",
    "    num += 1 \n",
    "print(my_list)"
   ]
  },
  {
   "cell_type": "code",
   "execution_count": 2,
   "id": "3dfa1d9d",
   "metadata": {},
   "outputs": [
    {
     "data": {
      "text/plain": [
       "[0, 1, 4, 9, 16, 25, 36, 49, 64, 81, 100]"
      ]
     },
     "execution_count": 2,
     "metadata": {},
     "output_type": "execute_result"
    }
   ],
   "source": [
    "[num**2  for num in range (11)]"
   ]
  },
  {
   "cell_type": "code",
   "execution_count": 3,
   "id": "9a33678f",
   "metadata": {},
   "outputs": [
    {
     "data": {
      "text/plain": [
       "[0, 3, 6, 9]"
      ]
     },
     "execution_count": 3,
     "metadata": {},
     "output_type": "execute_result"
    }
   ],
   "source": [
    "[num*3 for num in range(4)]"
   ]
  },
  {
   "cell_type": "code",
   "execution_count": 4,
   "id": "08d78ce9",
   "metadata": {},
   "outputs": [
    {
     "data": {
      "text/plain": [
       "[[0, 3, 6, 9], [0, 3, 6, 9], [0, 3, 6, 9], [0, 3, 6, 9], [0, 3, 6, 9]]"
      ]
     },
     "execution_count": 4,
     "metadata": {},
     "output_type": "execute_result"
    }
   ],
   "source": [
    "[[num*3 for num in range(4)]for num in range (5)]"
   ]
  },
  {
   "cell_type": "markdown",
   "id": "6d0d0f20",
   "metadata": {},
   "source": [
    "* ## Dictionary comprehension"
   ]
  },
  {
   "cell_type": "code",
   "execution_count": 35,
   "id": "fca8b119",
   "metadata": {},
   "outputs": [],
   "source": [
    "name = ['Moussa', 'Sall', 'Idris','George']"
   ]
  },
  {
   "cell_type": "code",
   "execution_count": 36,
   "id": "f2ea10cc",
   "metadata": {},
   "outputs": [],
   "source": [
    "dico = {k:v for k,v in enumerate(name)}"
   ]
  },
  {
   "cell_type": "code",
   "execution_count": 37,
   "id": "9d755692",
   "metadata": {},
   "outputs": [
    {
     "data": {
      "text/plain": [
       "{0: 'Moussa', 1: 'Sall', 2: 'Idris', 3: 'George'}"
      ]
     },
     "execution_count": 37,
     "metadata": {},
     "output_type": "execute_result"
    }
   ],
   "source": [
    "dico"
   ]
  },
  {
   "cell_type": "code",
   "execution_count": 38,
   "id": "771be641",
   "metadata": {},
   "outputs": [],
   "source": [
    "gpa = [4,3.9,3.8,3.5] "
   ]
  },
  {
   "cell_type": "code",
   "execution_count": 39,
   "id": "933d5d5d",
   "metadata": {},
   "outputs": [
    {
     "data": {
      "text/plain": [
       "{'Moussa': 4, 'Sall': 3.9, 'Idris': 3.8, 'George': 3.5}"
      ]
     },
     "execution_count": 39,
     "metadata": {},
     "output_type": "execute_result"
    }
   ],
   "source": [
    "name_gpg = {k:v for k,v in zip(name,gpa)}\n",
    "name_gpg"
   ]
  },
  {
   "cell_type": "code",
   "execution_count": null,
   "id": "4c7af0a1",
   "metadata": {},
   "outputs": [],
   "source": []
  },
  {
   "cell_type": "code",
   "execution_count": 40,
   "id": "5dbdaa48",
   "metadata": {},
   "outputs": [],
   "source": [
    "drink = ['water', 'soda', 'juice', 'smoothie']"
   ]
  },
  {
   "cell_type": "code",
   "execution_count": 41,
   "id": "89affad1",
   "metadata": {},
   "outputs": [],
   "source": [
    "dico = {k:v for k,v in enumerate(drink)} "
   ]
  },
  {
   "cell_type": "code",
   "execution_count": 42,
   "id": "b61c85b7",
   "metadata": {},
   "outputs": [
    {
     "data": {
      "text/plain": [
       "{0: 'water', 1: 'soda', 2: 'juice', 3: 'smoothie'}"
      ]
     },
     "execution_count": 42,
     "metadata": {},
     "output_type": "execute_result"
    }
   ],
   "source": [
    "dico"
   ]
  },
  {
   "cell_type": "code",
   "execution_count": 43,
   "id": "675b4efe",
   "metadata": {},
   "outputs": [],
   "source": [
    "calories = [0,120,150,250 ]"
   ]
  },
  {
   "cell_type": "code",
   "execution_count": 44,
   "id": "c47d5035",
   "metadata": {},
   "outputs": [
    {
     "data": {
      "text/plain": [
       "{'water': 0, 'soda': 120, 'juice': 150, 'smoothie': 250}"
      ]
     },
     "execution_count": 44,
     "metadata": {},
     "output_type": "execute_result"
    }
   ],
   "source": [
    "drink_calories = {k:v for k,v in zip(drink,calories)}\n",
    "drink_calories"
   ]
  },
  {
   "cell_type": "code",
   "execution_count": 45,
   "id": "6cee4c0d",
   "metadata": {},
   "outputs": [],
   "source": [
    "def square_roots_func(num):\n",
    "    results = num**0.5\n",
    "    return result "
   ]
  },
  {
   "cell_type": "code",
   "execution_count": 46,
   "id": "5621e1a7",
   "metadata": {},
   "outputs": [
    {
     "ename": "NameError",
     "evalue": "name 'result' is not defined",
     "output_type": "error",
     "traceback": [
      "\u001b[0;31m---------------------------------------------------------------------------\u001b[0m",
      "\u001b[0;31mNameError\u001b[0m                                 Traceback (most recent call last)",
      "Input \u001b[0;32mIn [46]\u001b[0m, in \u001b[0;36m<cell line: 1>\u001b[0;34m()\u001b[0m\n\u001b[0;32m----> 1\u001b[0m \u001b[43msquare_roots_func\u001b[49m\u001b[43m(\u001b[49m\u001b[38;5;241;43m2\u001b[39;49m\u001b[43m)\u001b[49m\n",
      "Input \u001b[0;32mIn [45]\u001b[0m, in \u001b[0;36msquare_roots_func\u001b[0;34m(num)\u001b[0m\n\u001b[1;32m      1\u001b[0m \u001b[38;5;28;01mdef\u001b[39;00m \u001b[38;5;21msquare_roots_func\u001b[39m(num):\n\u001b[1;32m      2\u001b[0m     results \u001b[38;5;241m=\u001b[39m num\u001b[38;5;241m*\u001b[39m\u001b[38;5;241m*\u001b[39m\u001b[38;5;241m0.5\u001b[39m\n\u001b[0;32m----> 3\u001b[0m     \u001b[38;5;28;01mreturn\u001b[39;00m \u001b[43mresult\u001b[49m\n",
      "\u001b[0;31mNameError\u001b[0m: name 'result' is not defined"
     ]
    }
   ],
   "source": [
    "square_roots_func(2)"
   ]
  },
  {
   "cell_type": "code",
   "execution_count": 47,
   "id": "d5e48241",
   "metadata": {},
   "outputs": [
    {
     "name": "stdout",
     "output_type": "stream",
     "text": [
      "[1, 4, 9, 16, 25, 36, 49, 64, 81, 100]\n"
     ]
    }
   ],
   "source": [
    "my_list= []\n",
    "for num in range(1,11,1):\n",
    "    my_list.append(num**2)\n",
    "    num += 1 \n",
    "print(my_list)"
   ]
  },
  {
   "cell_type": "code",
   "execution_count": 48,
   "id": "968d6f12",
   "metadata": {},
   "outputs": [],
   "source": [
    "def square_fun(val): \n",
    "    my_list = []\n",
    "    for val in range(1,11):\n",
    "        my_list_append(val**2)\n",
    "        val = val+1\n",
    "    return my_list"
   ]
  },
  {
   "cell_type": "code",
   "execution_count": 49,
   "id": "a41e949a",
   "metadata": {
    "scrolled": true
   },
   "outputs": [
    {
     "data": {
      "text/plain": [
       "[1, 4, 9, 16, 25, 36, 49, 64, 81, 100]"
      ]
     },
     "execution_count": 49,
     "metadata": {},
     "output_type": "execute_result"
    }
   ],
   "source": [
    "my_list"
   ]
  },
  {
   "cell_type": "code",
   "execution_count": 50,
   "id": "74901a56",
   "metadata": {},
   "outputs": [],
   "source": [
    "mylist = [2,-5,10,21,-17,55,-0.5,-78]"
   ]
  },
  {
   "cell_type": "code",
   "execution_count": 51,
   "id": "bb88b518",
   "metadata": {},
   "outputs": [
    {
     "data": {
      "text/plain": [
       "[(0, 2), (1, -5), (2, 10), (3, 21), (4, -17), (5, 55), (6, -0.5), (7, -78)]"
      ]
     },
     "execution_count": 51,
     "metadata": {},
     "output_type": "execute_result"
    }
   ],
   "source": [
    "list(enumerate(mylist))"
   ]
  },
  {
   "cell_type": "code",
   "execution_count": 52,
   "id": "51ef3d94",
   "metadata": {},
   "outputs": [],
   "source": [
    "def replace_by_zero(mylist):\n",
    "    for idx, num in enumerate(mylist):\n",
    "        if num < 0:\n",
    "            mylist[idx] = 0\n",
    "    return mylist"
   ]
  },
  {
   "cell_type": "code",
   "execution_count": 53,
   "id": "47cb6fed",
   "metadata": {},
   "outputs": [
    {
     "data": {
      "text/plain": [
       "[2, -5, 10, 21, -17, 55, -0.5, -78]"
      ]
     },
     "execution_count": 53,
     "metadata": {},
     "output_type": "execute_result"
    }
   ],
   "source": [
    "mylist"
   ]
  },
  {
   "cell_type": "code",
   "execution_count": 54,
   "id": "cad5cb35",
   "metadata": {},
   "outputs": [
    {
     "data": {
      "text/plain": [
       "[2, 0, 10, 21, 0, 55, 0, 0]"
      ]
     },
     "execution_count": 54,
     "metadata": {},
     "output_type": "execute_result"
    }
   ],
   "source": [
    "replace_by_zero(mylist)"
   ]
  },
  {
   "cell_type": "code",
   "execution_count": 55,
   "id": "73bf07f9",
   "metadata": {},
   "outputs": [],
   "source": [
    "# 7 = 7x6x5x4x3x2x1\n",
    "def factoriel_func(num):\n",
    "    p = 1 \n",
    "    i = 1\n",
    "    while i <= num:\n",
    "        p = p*i\n",
    "        i += 1\n",
    "    return p \n",
    "    "
   ]
  },
  {
   "cell_type": "code",
   "execution_count": 56,
   "id": "3a5040f9",
   "metadata": {},
   "outputs": [
    {
     "data": {
      "text/plain": [
       "5040"
      ]
     },
     "execution_count": 56,
     "metadata": {},
     "output_type": "execute_result"
    }
   ],
   "source": [
    "factoriel_func(7)"
   ]
  },
  {
   "cell_type": "code",
   "execution_count": 57,
   "id": "7c90f685",
   "metadata": {},
   "outputs": [],
   "source": [
    "#!3 = 3x2x1 = 6 "
   ]
  },
  {
   "cell_type": "markdown",
   "id": "ba28c428",
   "metadata": {},
   "source": [
    "* ## Lambda Expressions"
   ]
  },
  {
   "cell_type": "code",
   "execution_count": 60,
   "id": "e8c6a014",
   "metadata": {},
   "outputs": [],
   "source": [
    "def squares(num): \n",
    "    result = num**2\n",
    "    return result"
   ]
  },
  {
   "cell_type": "code",
   "execution_count": 61,
   "id": "1bab38fb",
   "metadata": {},
   "outputs": [
    {
     "data": {
      "text/plain": [
       "36"
      ]
     },
     "execution_count": 61,
     "metadata": {},
     "output_type": "execute_result"
    }
   ],
   "source": [
    "squares(6)"
   ]
  },
  {
   "cell_type": "code",
   "execution_count": 71,
   "id": "4e112fd9",
   "metadata": {},
   "outputs": [],
   "source": [
    "l =lambda num: num*3 "
   ]
  },
  {
   "cell_type": "code",
   "execution_count": 72,
   "id": "2a77c3ae",
   "metadata": {},
   "outputs": [
    {
     "data": {
      "text/plain": [
       "18"
      ]
     },
     "execution_count": 72,
     "metadata": {},
     "output_type": "execute_result"
    }
   ],
   "source": [
    "l(6)"
   ]
  },
  {
   "cell_type": "code",
   "execution_count": 65,
   "id": "3a3a343a",
   "metadata": {},
   "outputs": [],
   "source": [
    "ano_list = [-1,4,-5,6,7,-11,20,21,33,-77]"
   ]
  },
  {
   "cell_type": "code",
   "execution_count": 69,
   "id": "77bea662",
   "metadata": {},
   "outputs": [
    {
     "data": {
      "text/plain": [
       "[1, 16, 25, 36, 49, 121, 400, 441, 1089, 5929]"
      ]
     },
     "execution_count": 69,
     "metadata": {},
     "output_type": "execute_result"
    }
   ],
   "source": [
    "list(map(l,ano_list))"
   ]
  },
  {
   "cell_type": "code",
   "execution_count": 76,
   "id": "e5a34ff8",
   "metadata": {},
   "outputs": [
    {
     "data": {
      "text/plain": [
       "[-1, -5, 7, -11, 21, 33, -77]"
      ]
     },
     "execution_count": 76,
     "metadata": {},
     "output_type": "execute_result"
    }
   ],
   "source": [
    "list(filter(lambda num: num%2 != 0, ano_list))"
   ]
  },
  {
   "cell_type": "code",
   "execution_count": 77,
   "id": "5cb53ad8",
   "metadata": {},
   "outputs": [],
   "source": [
    "md_list = [2,12,-3,-5,17,22.0,-88]\n",
    "# Use map to replace the odd numbers by 0.\n",
    "# And use filter to return the non-negative number"
   ]
  },
  {
   "cell_type": "code",
   "execution_count": 91,
   "id": "1081099f",
   "metadata": {},
   "outputs": [],
   "source": [
    "def rnge(alist):\n",
    "    for i in range(len(alist)):\n",
    "        if alist[i]%2 != 0:\n",
    "            alist[i] = 0\n",
    "            return list "
   ]
  },
  {
   "cell_type": "code",
   "execution_count": 90,
   "id": "f04621f4",
   "metadata": {},
   "outputs": [
    {
     "ename": "SyntaxError",
     "evalue": "invalid syntax (4232752217.py, line 1)",
     "output_type": "error",
     "traceback": [
      "\u001b[0;36m  Input \u001b[0;32mIn [90]\u001b[0;36m\u001b[0m\n\u001b[0;31m    [alist if alist[i] != 0 for i in range(len(alist))]\u001b[0m\n\u001b[0m                            ^\u001b[0m\n\u001b[0;31mSyntaxError\u001b[0m\u001b[0;31m:\u001b[0m invalid syntax\n"
     ]
    }
   ],
   "source": [
    "[alist if alist[i] != 0 for i in range(len(alist))]"
   ]
  },
  {
   "cell_type": "code",
   "execution_count": 87,
   "id": "07716d64",
   "metadata": {},
   "outputs": [
    {
     "ename": "TypeError",
     "evalue": "object of type 'int' has no len()",
     "output_type": "error",
     "traceback": [
      "\u001b[0;31m---------------------------------------------------------------------------\u001b[0m",
      "\u001b[0;31mTypeError\u001b[0m                                 Traceback (most recent call last)",
      "Input \u001b[0;32mIn [87]\u001b[0m, in \u001b[0;36m<cell line: 1>\u001b[0;34m()\u001b[0m\n\u001b[0;32m----> 1\u001b[0m \u001b[38;5;28;43mlist\u001b[39;49m\u001b[43m(\u001b[49m\u001b[38;5;28;43mmap\u001b[39;49m\u001b[43m(\u001b[49m\u001b[43mrnge\u001b[49m\u001b[43m,\u001b[49m\u001b[43m \u001b[49m\u001b[43mmd_list\u001b[49m\u001b[43m)\u001b[49m\u001b[43m)\u001b[49m\n",
      "Input \u001b[0;32mIn [86]\u001b[0m, in \u001b[0;36mrnge\u001b[0;34m(alist)\u001b[0m\n\u001b[1;32m      1\u001b[0m \u001b[38;5;28;01mdef\u001b[39;00m \u001b[38;5;21mrnge\u001b[39m(alist):\n\u001b[0;32m----> 2\u001b[0m     \u001b[38;5;28;01mfor\u001b[39;00m i \u001b[38;5;129;01min\u001b[39;00m \u001b[38;5;28mrange\u001b[39m(\u001b[38;5;28;43mlen\u001b[39;49m\u001b[43m(\u001b[49m\u001b[43malist\u001b[49m\u001b[43m)\u001b[49m):\n\u001b[1;32m      3\u001b[0m         \u001b[38;5;28;01mif\u001b[39;00m alist[i]\u001b[38;5;241m%\u001b[39m\u001b[38;5;241m2\u001b[39m \u001b[38;5;241m!=\u001b[39m \u001b[38;5;241m0\u001b[39m:\n\u001b[1;32m      4\u001b[0m             alist[i] \u001b[38;5;241m=\u001b[39m \u001b[38;5;241m0\u001b[39m\n",
      "\u001b[0;31mTypeError\u001b[0m: object of type 'int' has no len()"
     ]
    }
   ],
   "source": [
    "list(map(rnge, md_list))"
   ]
  },
  {
   "cell_type": "code",
   "execution_count": null,
   "id": "4f402f56",
   "metadata": {},
   "outputs": [],
   "source": []
  }
 ],
 "metadata": {
  "kernelspec": {
   "display_name": "Python 3 (ipykernel)",
   "language": "python",
   "name": "python3"
  },
  "language_info": {
   "codemirror_mode": {
    "name": "ipython",
    "version": 3
   },
   "file_extension": ".py",
   "mimetype": "text/x-python",
   "name": "python",
   "nbconvert_exporter": "python",
   "pygments_lexer": "ipython3",
   "version": "3.9.12"
  }
 },
 "nbformat": 4,
 "nbformat_minor": 5
}
