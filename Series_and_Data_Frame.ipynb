{
 "cells": [
  {
   "cell_type": "code",
   "execution_count": 48,
   "id": "fe5ea793",
   "metadata": {},
   "outputs": [],
   "source": [
    "import pandas as pd\n",
    "import numpy as np\n",
    "from numpy.random import randn\n",
    "import random\n",
    "import string "
   ]
  },
  {
   "cell_type": "markdown",
   "id": "e3a85055",
   "metadata": {},
   "source": [
    "## * Series is just single column of data"
   ]
  },
  {
   "cell_type": "code",
   "execution_count": 49,
   "id": "154983c9",
   "metadata": {},
   "outputs": [
    {
     "data": {
      "text/plain": [
       "[0, 1, 2, 3, 4, 5, 6, 7, 8, 9]"
      ]
     },
     "execution_count": 49,
     "metadata": {},
     "output_type": "execute_result"
    }
   ],
   "source": [
    "data1 = [i for i in range(10)]\n",
    "data1"
   ]
  },
  {
   "cell_type": "code",
   "execution_count": 50,
   "id": "58dea65e",
   "metadata": {},
   "outputs": [
    {
     "name": "stdout",
     "output_type": "stream",
     "text": [
      "['A', 'B', 'C', 'D', 'E', 'F', 'G', 'H', 'I', 'J', 'K', 'L', 'M', 'N', 'O', 'P', 'Q', 'R', 'S', 'T', 'U', 'V', 'W', 'X', 'Y', 'Z']\n"
     ]
    }
   ],
   "source": [
    "alphalist = list(string.ascii_uppercase) \n",
    "print(alphalist) "
   ]
  },
  {
   "cell_type": "code",
   "execution_count": 51,
   "id": "b1b4b808",
   "metadata": {},
   "outputs": [
    {
     "data": {
      "text/plain": [
       "['A', 'B', 'C', 'D', 'E', 'F', 'G', 'H', 'I', 'J']"
      ]
     },
     "execution_count": 51,
     "metadata": {},
     "output_type": "execute_result"
    }
   ],
   "source": [
    "index1 = [alphalist[i] for i in range(10)]\n",
    "index1"
   ]
  },
  {
   "cell_type": "code",
   "execution_count": 52,
   "id": "a7283c35",
   "metadata": {},
   "outputs": [
    {
     "data": {
      "text/plain": [
       "A    0\n",
       "B    1\n",
       "C    2\n",
       "D    3\n",
       "E    4\n",
       "F    5\n",
       "G    6\n",
       "H    7\n",
       "I    8\n",
       "J    9\n",
       "dtype: int64"
      ]
     },
     "execution_count": 52,
     "metadata": {},
     "output_type": "execute_result"
    }
   ],
   "source": [
    "serie1 = pd.Series(data=data1, index =index1)\n",
    "serie1"
   ]
  },
  {
   "cell_type": "code",
   "execution_count": 53,
   "id": "d4724b31",
   "metadata": {},
   "outputs": [],
   "source": [
    "dico = {k:v for k,v in zip(index1, data1)}"
   ]
  },
  {
   "cell_type": "code",
   "execution_count": 54,
   "id": "20ed0e5e",
   "metadata": {},
   "outputs": [
    {
     "data": {
      "text/plain": [
       "A    0\n",
       "B    1\n",
       "C    2\n",
       "D    3\n",
       "E    4\n",
       "F    5\n",
       "G    6\n",
       "H    7\n",
       "I    8\n",
       "J    9\n",
       "dtype: int64"
      ]
     },
     "execution_count": 54,
     "metadata": {},
     "output_type": "execute_result"
    }
   ],
   "source": [
    "serie2 = pd.Series(dico)\n",
    "serie2 "
   ]
  },
  {
   "cell_type": "code",
   "execution_count": 55,
   "id": "e7001036",
   "metadata": {},
   "outputs": [
    {
     "data": {
      "text/html": [
       "<div>\n",
       "<style scoped>\n",
       "    .dataframe tbody tr th:only-of-type {\n",
       "        vertical-align: middle;\n",
       "    }\n",
       "\n",
       "    .dataframe tbody tr th {\n",
       "        vertical-align: top;\n",
       "    }\n",
       "\n",
       "    .dataframe thead th {\n",
       "        text-align: right;\n",
       "    }\n",
       "</style>\n",
       "<table border=\"1\" class=\"dataframe\">\n",
       "  <thead>\n",
       "    <tr style=\"text-align: right;\">\n",
       "      <th></th>\n",
       "      <th>V</th>\n",
       "      <th>W</th>\n",
       "      <th>X</th>\n",
       "      <th>Y</th>\n",
       "      <th>Z</th>\n",
       "    </tr>\n",
       "  </thead>\n",
       "  <tbody>\n",
       "    <tr>\n",
       "      <th>A</th>\n",
       "      <td>0.371695</td>\n",
       "      <td>0.002657</td>\n",
       "      <td>-0.552025</td>\n",
       "      <td>0.149300</td>\n",
       "      <td>-1.185246</td>\n",
       "    </tr>\n",
       "    <tr>\n",
       "      <th>B</th>\n",
       "      <td>1.303649</td>\n",
       "      <td>-2.227310</td>\n",
       "      <td>0.110510</td>\n",
       "      <td>0.623443</td>\n",
       "      <td>0.033628</td>\n",
       "    </tr>\n",
       "    <tr>\n",
       "      <th>C</th>\n",
       "      <td>-1.055505</td>\n",
       "      <td>-0.509395</td>\n",
       "      <td>-1.955441</td>\n",
       "      <td>0.398752</td>\n",
       "      <td>-1.575644</td>\n",
       "    </tr>\n",
       "    <tr>\n",
       "      <th>D</th>\n",
       "      <td>0.681370</td>\n",
       "      <td>-1.119191</td>\n",
       "      <td>-0.970821</td>\n",
       "      <td>0.587449</td>\n",
       "      <td>0.443261</td>\n",
       "    </tr>\n",
       "    <tr>\n",
       "      <th>E</th>\n",
       "      <td>1.696422</td>\n",
       "      <td>0.533214</td>\n",
       "      <td>0.895963</td>\n",
       "      <td>-0.306065</td>\n",
       "      <td>-0.520742</td>\n",
       "    </tr>\n",
       "  </tbody>\n",
       "</table>\n",
       "</div>"
      ],
      "text/plain": [
       "          V         W         X         Y         Z\n",
       "A  0.371695  0.002657 -0.552025  0.149300 -1.185246\n",
       "B  1.303649 -2.227310  0.110510  0.623443  0.033628\n",
       "C -1.055505 -0.509395 -1.955441  0.398752 -1.575644\n",
       "D  0.681370 -1.119191 -0.970821  0.587449  0.443261\n",
       "E  1.696422  0.533214  0.895963 -0.306065 -0.520742"
      ]
     },
     "execution_count": 55,
     "metadata": {},
     "output_type": "execute_result"
    }
   ],
   "source": [
    "df = pd. DataFrame(np.random.randn(5,5),index='A/B/C/D/E'.split('/'),columns='V/W/X/Y/Z'.split(\"/\"))\n",
    "df"
   ]
  },
  {
   "cell_type": "code",
   "execution_count": 56,
   "id": "6630e864",
   "metadata": {},
   "outputs": [
    {
     "data": {
      "text/html": [
       "<div>\n",
       "<style scoped>\n",
       "    .dataframe tbody tr th:only-of-type {\n",
       "        vertical-align: middle;\n",
       "    }\n",
       "\n",
       "    .dataframe tbody tr th {\n",
       "        vertical-align: top;\n",
       "    }\n",
       "\n",
       "    .dataframe thead th {\n",
       "        text-align: right;\n",
       "    }\n",
       "</style>\n",
       "<table border=\"1\" class=\"dataframe\">\n",
       "  <thead>\n",
       "    <tr style=\"text-align: right;\">\n",
       "      <th></th>\n",
       "      <th>V</th>\n",
       "      <th>X</th>\n",
       "    </tr>\n",
       "  </thead>\n",
       "  <tbody>\n",
       "    <tr>\n",
       "      <th>A</th>\n",
       "      <td>0.371695</td>\n",
       "      <td>-0.552025</td>\n",
       "    </tr>\n",
       "    <tr>\n",
       "      <th>B</th>\n",
       "      <td>1.303649</td>\n",
       "      <td>0.110510</td>\n",
       "    </tr>\n",
       "    <tr>\n",
       "      <th>C</th>\n",
       "      <td>-1.055505</td>\n",
       "      <td>-1.955441</td>\n",
       "    </tr>\n",
       "    <tr>\n",
       "      <th>D</th>\n",
       "      <td>0.681370</td>\n",
       "      <td>-0.970821</td>\n",
       "    </tr>\n",
       "    <tr>\n",
       "      <th>E</th>\n",
       "      <td>1.696422</td>\n",
       "      <td>0.895963</td>\n",
       "    </tr>\n",
       "  </tbody>\n",
       "</table>\n",
       "</div>"
      ],
      "text/plain": [
       "          V         X\n",
       "A  0.371695 -0.552025\n",
       "B  1.303649  0.110510\n",
       "C -1.055505 -1.955441\n",
       "D  0.681370 -0.970821\n",
       "E  1.696422  0.895963"
      ]
     },
     "execution_count": 56,
     "metadata": {},
     "output_type": "execute_result"
    }
   ],
   "source": [
    "df[['V','X']]"
   ]
  },
  {
   "cell_type": "code",
   "execution_count": 57,
   "id": "16dc6ba1",
   "metadata": {},
   "outputs": [
    {
     "data": {
      "text/html": [
       "<div>\n",
       "<style scoped>\n",
       "    .dataframe tbody tr th:only-of-type {\n",
       "        vertical-align: middle;\n",
       "    }\n",
       "\n",
       "    .dataframe tbody tr th {\n",
       "        vertical-align: top;\n",
       "    }\n",
       "\n",
       "    .dataframe thead th {\n",
       "        text-align: right;\n",
       "    }\n",
       "</style>\n",
       "<table border=\"1\" class=\"dataframe\">\n",
       "  <thead>\n",
       "    <tr style=\"text-align: right;\">\n",
       "      <th></th>\n",
       "      <th>W</th>\n",
       "      <th>Y</th>\n",
       "    </tr>\n",
       "  </thead>\n",
       "  <tbody>\n",
       "    <tr>\n",
       "      <th>A</th>\n",
       "      <td>0.002657</td>\n",
       "      <td>0.149300</td>\n",
       "    </tr>\n",
       "    <tr>\n",
       "      <th>B</th>\n",
       "      <td>-2.227310</td>\n",
       "      <td>0.623443</td>\n",
       "    </tr>\n",
       "    <tr>\n",
       "      <th>C</th>\n",
       "      <td>-0.509395</td>\n",
       "      <td>0.398752</td>\n",
       "    </tr>\n",
       "    <tr>\n",
       "      <th>D</th>\n",
       "      <td>-1.119191</td>\n",
       "      <td>0.587449</td>\n",
       "    </tr>\n",
       "    <tr>\n",
       "      <th>E</th>\n",
       "      <td>0.533214</td>\n",
       "      <td>-0.306065</td>\n",
       "    </tr>\n",
       "  </tbody>\n",
       "</table>\n",
       "</div>"
      ],
      "text/plain": [
       "          W         Y\n",
       "A  0.002657  0.149300\n",
       "B -2.227310  0.623443\n",
       "C -0.509395  0.398752\n",
       "D -1.119191  0.587449\n",
       "E  0.533214 -0.306065"
      ]
     },
     "execution_count": 57,
     "metadata": {},
     "output_type": "execute_result"
    }
   ],
   "source": [
    "# Selecting Columns \n",
    "df[['W','Y']]"
   ]
  },
  {
   "cell_type": "code",
   "execution_count": 58,
   "id": "be10a8f0",
   "metadata": {},
   "outputs": [
    {
     "data": {
      "text/plain": [
       "V    0.371695\n",
       "W    0.002657\n",
       "X   -0.552025\n",
       "Y    0.149300\n",
       "Z   -1.185246\n",
       "Name: A, dtype: float64"
      ]
     },
     "execution_count": 58,
     "metadata": {},
     "output_type": "execute_result"
    }
   ],
   "source": [
    "# We use iloc to select a particular row \n",
    "df.iloc[0]"
   ]
  },
  {
   "cell_type": "code",
   "execution_count": 59,
   "id": "d114f50d",
   "metadata": {},
   "outputs": [
    {
     "data": {
      "text/plain": [
       "1.3036488298525368"
      ]
     },
     "execution_count": 59,
     "metadata": {},
     "output_type": "execute_result"
    }
   ],
   "source": [
    "df.loc['B']['V']"
   ]
  },
  {
   "cell_type": "code",
   "execution_count": 60,
   "id": "98f3e2cb",
   "metadata": {},
   "outputs": [
    {
     "data": {
      "text/plain": [
       "A     True\n",
       "B    False\n",
       "C    False\n",
       "D    False\n",
       "E     True\n",
       "Name: W, dtype: bool"
      ]
     },
     "execution_count": 60,
     "metadata": {},
     "output_type": "execute_result"
    }
   ],
   "source": [
    "df['W']> 0"
   ]
  },
  {
   "cell_type": "code",
   "execution_count": 61,
   "id": "30719ff7",
   "metadata": {},
   "outputs": [],
   "source": [
    "df['U'] =df['V']+df['Z'] #adding new column to the data frame"
   ]
  },
  {
   "cell_type": "code",
   "execution_count": 62,
   "id": "37228e46",
   "metadata": {},
   "outputs": [
    {
     "data": {
      "text/html": [
       "<div>\n",
       "<style scoped>\n",
       "    .dataframe tbody tr th:only-of-type {\n",
       "        vertical-align: middle;\n",
       "    }\n",
       "\n",
       "    .dataframe tbody tr th {\n",
       "        vertical-align: top;\n",
       "    }\n",
       "\n",
       "    .dataframe thead th {\n",
       "        text-align: right;\n",
       "    }\n",
       "</style>\n",
       "<table border=\"1\" class=\"dataframe\">\n",
       "  <thead>\n",
       "    <tr style=\"text-align: right;\">\n",
       "      <th></th>\n",
       "      <th>V</th>\n",
       "      <th>W</th>\n",
       "      <th>X</th>\n",
       "      <th>Y</th>\n",
       "      <th>Z</th>\n",
       "      <th>U</th>\n",
       "    </tr>\n",
       "  </thead>\n",
       "  <tbody>\n",
       "    <tr>\n",
       "      <th>A</th>\n",
       "      <td>0.371695</td>\n",
       "      <td>0.002657</td>\n",
       "      <td>-0.552025</td>\n",
       "      <td>0.149300</td>\n",
       "      <td>-1.185246</td>\n",
       "      <td>-0.813550</td>\n",
       "    </tr>\n",
       "    <tr>\n",
       "      <th>B</th>\n",
       "      <td>1.303649</td>\n",
       "      <td>-2.227310</td>\n",
       "      <td>0.110510</td>\n",
       "      <td>0.623443</td>\n",
       "      <td>0.033628</td>\n",
       "      <td>1.337277</td>\n",
       "    </tr>\n",
       "    <tr>\n",
       "      <th>C</th>\n",
       "      <td>-1.055505</td>\n",
       "      <td>-0.509395</td>\n",
       "      <td>-1.955441</td>\n",
       "      <td>0.398752</td>\n",
       "      <td>-1.575644</td>\n",
       "      <td>-2.631148</td>\n",
       "    </tr>\n",
       "    <tr>\n",
       "      <th>D</th>\n",
       "      <td>0.681370</td>\n",
       "      <td>-1.119191</td>\n",
       "      <td>-0.970821</td>\n",
       "      <td>0.587449</td>\n",
       "      <td>0.443261</td>\n",
       "      <td>1.124631</td>\n",
       "    </tr>\n",
       "    <tr>\n",
       "      <th>E</th>\n",
       "      <td>1.696422</td>\n",
       "      <td>0.533214</td>\n",
       "      <td>0.895963</td>\n",
       "      <td>-0.306065</td>\n",
       "      <td>-0.520742</td>\n",
       "      <td>1.175681</td>\n",
       "    </tr>\n",
       "  </tbody>\n",
       "</table>\n",
       "</div>"
      ],
      "text/plain": [
       "          V         W         X         Y         Z         U\n",
       "A  0.371695  0.002657 -0.552025  0.149300 -1.185246 -0.813550\n",
       "B  1.303649 -2.227310  0.110510  0.623443  0.033628  1.337277\n",
       "C -1.055505 -0.509395 -1.955441  0.398752 -1.575644 -2.631148\n",
       "D  0.681370 -1.119191 -0.970821  0.587449  0.443261  1.124631\n",
       "E  1.696422  0.533214  0.895963 -0.306065 -0.520742  1.175681"
      ]
     },
     "execution_count": 62,
     "metadata": {},
     "output_type": "execute_result"
    }
   ],
   "source": [
    "df"
   ]
  },
  {
   "cell_type": "code",
   "execution_count": 63,
   "id": "ea824caf",
   "metadata": {},
   "outputs": [
    {
     "data": {
      "text/html": [
       "<div>\n",
       "<style scoped>\n",
       "    .dataframe tbody tr th:only-of-type {\n",
       "        vertical-align: middle;\n",
       "    }\n",
       "\n",
       "    .dataframe tbody tr th {\n",
       "        vertical-align: top;\n",
       "    }\n",
       "\n",
       "    .dataframe thead th {\n",
       "        text-align: right;\n",
       "    }\n",
       "</style>\n",
       "<table border=\"1\" class=\"dataframe\">\n",
       "  <thead>\n",
       "    <tr style=\"text-align: right;\">\n",
       "      <th></th>\n",
       "      <th>V</th>\n",
       "      <th>W</th>\n",
       "      <th>X</th>\n",
       "      <th>Y</th>\n",
       "      <th>Z</th>\n",
       "      <th>U</th>\n",
       "    </tr>\n",
       "  </thead>\n",
       "  <tbody>\n",
       "    <tr>\n",
       "      <th>B</th>\n",
       "      <td>1.303649</td>\n",
       "      <td>-2.227310</td>\n",
       "      <td>0.110510</td>\n",
       "      <td>0.623443</td>\n",
       "      <td>0.033628</td>\n",
       "      <td>1.337277</td>\n",
       "    </tr>\n",
       "    <tr>\n",
       "      <th>D</th>\n",
       "      <td>0.681370</td>\n",
       "      <td>-1.119191</td>\n",
       "      <td>-0.970821</td>\n",
       "      <td>0.587449</td>\n",
       "      <td>0.443261</td>\n",
       "      <td>1.124631</td>\n",
       "    </tr>\n",
       "  </tbody>\n",
       "</table>\n",
       "</div>"
      ],
      "text/plain": [
       "          V         W         X         Y         Z         U\n",
       "B  1.303649 -2.227310  0.110510  0.623443  0.033628  1.337277\n",
       "D  0.681370 -1.119191 -0.970821  0.587449  0.443261  1.124631"
      ]
     },
     "execution_count": 63,
     "metadata": {},
     "output_type": "execute_result"
    }
   ],
   "source": [
    "df[df['U'] > df['V']]"
   ]
  },
  {
   "cell_type": "code",
   "execution_count": 64,
   "id": "26db9f88",
   "metadata": {},
   "outputs": [
    {
     "data": {
      "text/plain": [
       "V    0.371695\n",
       "W    0.002657\n",
       "X   -0.552025\n",
       "Y    0.149300\n",
       "Z   -1.185246\n",
       "U   -0.813550\n",
       "Name: A, dtype: float64"
      ]
     },
     "execution_count": 64,
     "metadata": {},
     "output_type": "execute_result"
    }
   ],
   "source": [
    "df.iloc[0]"
   ]
  },
  {
   "cell_type": "code",
   "execution_count": 65,
   "id": "259d227f",
   "metadata": {},
   "outputs": [
    {
     "data": {
      "text/plain": [
       "V    0.371695\n",
       "W    0.002657\n",
       "X   -0.552025\n",
       "Y    0.149300\n",
       "Z   -1.185246\n",
       "U   -0.813550\n",
       "Name: A, dtype: float64"
      ]
     },
     "execution_count": 65,
     "metadata": {},
     "output_type": "execute_result"
    }
   ],
   "source": [
    "df.loc['A']"
   ]
  },
  {
   "cell_type": "code",
   "execution_count": 66,
   "id": "d40a03ec",
   "metadata": {},
   "outputs": [
    {
     "data": {
      "text/html": [
       "<div>\n",
       "<style scoped>\n",
       "    .dataframe tbody tr th:only-of-type {\n",
       "        vertical-align: middle;\n",
       "    }\n",
       "\n",
       "    .dataframe tbody tr th {\n",
       "        vertical-align: top;\n",
       "    }\n",
       "\n",
       "    .dataframe thead th {\n",
       "        text-align: right;\n",
       "    }\n",
       "</style>\n",
       "<table border=\"1\" class=\"dataframe\">\n",
       "  <thead>\n",
       "    <tr style=\"text-align: right;\">\n",
       "      <th></th>\n",
       "      <th>W</th>\n",
       "    </tr>\n",
       "  </thead>\n",
       "  <tbody>\n",
       "    <tr>\n",
       "      <th>A</th>\n",
       "      <td>0.002657</td>\n",
       "    </tr>\n",
       "    <tr>\n",
       "      <th>B</th>\n",
       "      <td>-2.227310</td>\n",
       "    </tr>\n",
       "    <tr>\n",
       "      <th>C</th>\n",
       "      <td>-0.509395</td>\n",
       "    </tr>\n",
       "    <tr>\n",
       "      <th>D</th>\n",
       "      <td>-1.119191</td>\n",
       "    </tr>\n",
       "    <tr>\n",
       "      <th>E</th>\n",
       "      <td>0.533214</td>\n",
       "    </tr>\n",
       "  </tbody>\n",
       "</table>\n",
       "</div>"
      ],
      "text/plain": [
       "          W\n",
       "A  0.002657\n",
       "B -2.227310\n",
       "C -0.509395\n",
       "D -1.119191\n",
       "E  0.533214"
      ]
     },
     "execution_count": 66,
     "metadata": {},
     "output_type": "execute_result"
    }
   ],
   "source": [
    "df[['W']]"
   ]
  },
  {
   "cell_type": "code",
   "execution_count": 67,
   "id": "07d872e1",
   "metadata": {},
   "outputs": [
    {
     "data": {
      "text/html": [
       "<div>\n",
       "<style scoped>\n",
       "    .dataframe tbody tr th:only-of-type {\n",
       "        vertical-align: middle;\n",
       "    }\n",
       "\n",
       "    .dataframe tbody tr th {\n",
       "        vertical-align: top;\n",
       "    }\n",
       "\n",
       "    .dataframe thead th {\n",
       "        text-align: right;\n",
       "    }\n",
       "</style>\n",
       "<table border=\"1\" class=\"dataframe\">\n",
       "  <thead>\n",
       "    <tr style=\"text-align: right;\">\n",
       "      <th></th>\n",
       "      <th>W</th>\n",
       "      <th>Y</th>\n",
       "    </tr>\n",
       "  </thead>\n",
       "  <tbody>\n",
       "    <tr>\n",
       "      <th>A</th>\n",
       "      <td>0.002657</td>\n",
       "      <td>0.149300</td>\n",
       "    </tr>\n",
       "    <tr>\n",
       "      <th>B</th>\n",
       "      <td>-2.227310</td>\n",
       "      <td>0.623443</td>\n",
       "    </tr>\n",
       "    <tr>\n",
       "      <th>C</th>\n",
       "      <td>-0.509395</td>\n",
       "      <td>0.398752</td>\n",
       "    </tr>\n",
       "    <tr>\n",
       "      <th>D</th>\n",
       "      <td>-1.119191</td>\n",
       "      <td>0.587449</td>\n",
       "    </tr>\n",
       "    <tr>\n",
       "      <th>E</th>\n",
       "      <td>0.533214</td>\n",
       "      <td>-0.306065</td>\n",
       "    </tr>\n",
       "  </tbody>\n",
       "</table>\n",
       "</div>"
      ],
      "text/plain": [
       "          W         Y\n",
       "A  0.002657  0.149300\n",
       "B -2.227310  0.623443\n",
       "C -0.509395  0.398752\n",
       "D -1.119191  0.587449\n",
       "E  0.533214 -0.306065"
      ]
     },
     "execution_count": 67,
     "metadata": {},
     "output_type": "execute_result"
    }
   ],
   "source": [
    "df[['W','Y']]"
   ]
  },
  {
   "cell_type": "code",
   "execution_count": 68,
   "id": "8c3f111e",
   "metadata": {},
   "outputs": [
    {
     "data": {
      "text/plain": [
       "0.11050988913412402"
      ]
     },
     "execution_count": 68,
     "metadata": {},
     "output_type": "execute_result"
    }
   ],
   "source": [
    "df.loc['B']['X']"
   ]
  },
  {
   "cell_type": "code",
   "execution_count": 69,
   "id": "28f26737",
   "metadata": {},
   "outputs": [
    {
     "data": {
      "text/plain": [
       "0.11050988913412402"
      ]
     },
     "execution_count": 69,
     "metadata": {},
     "output_type": "execute_result"
    }
   ],
   "source": [
    "df.iloc[1]['X']"
   ]
  },
  {
   "cell_type": "code",
   "execution_count": 70,
   "id": "e2ebf887",
   "metadata": {},
   "outputs": [
    {
     "data": {
      "text/plain": [
       "0.4432608944905805"
      ]
     },
     "execution_count": 70,
     "metadata": {},
     "output_type": "execute_result"
    }
   ],
   "source": [
    "df.iloc[3]['Z']"
   ]
  },
  {
   "cell_type": "code",
   "execution_count": 71,
   "id": "cc01684c",
   "metadata": {},
   "outputs": [
    {
     "data": {
      "text/plain": [
       "-0.9708205554966592"
      ]
     },
     "execution_count": 71,
     "metadata": {},
     "output_type": "execute_result"
    }
   ],
   "source": [
    "df.iloc[3]['X']"
   ]
  },
  {
   "cell_type": "code",
   "execution_count": 72,
   "id": "4f30ab23",
   "metadata": {
    "scrolled": true
   },
   "outputs": [
    {
     "data": {
      "text/html": [
       "<div>\n",
       "<style scoped>\n",
       "    .dataframe tbody tr th:only-of-type {\n",
       "        vertical-align: middle;\n",
       "    }\n",
       "\n",
       "    .dataframe tbody tr th {\n",
       "        vertical-align: top;\n",
       "    }\n",
       "\n",
       "    .dataframe thead th {\n",
       "        text-align: right;\n",
       "    }\n",
       "</style>\n",
       "<table border=\"1\" class=\"dataframe\">\n",
       "  <thead>\n",
       "    <tr style=\"text-align: right;\">\n",
       "      <th></th>\n",
       "      <th>V</th>\n",
       "      <th>W</th>\n",
       "      <th>X</th>\n",
       "      <th>Y</th>\n",
       "      <th>Z</th>\n",
       "      <th>U</th>\n",
       "    </tr>\n",
       "  </thead>\n",
       "  <tbody>\n",
       "    <tr>\n",
       "      <th>A</th>\n",
       "      <td>0.371695</td>\n",
       "      <td>0.002657</td>\n",
       "      <td>-0.552025</td>\n",
       "      <td>0.149300</td>\n",
       "      <td>-1.185246</td>\n",
       "      <td>-0.813550</td>\n",
       "    </tr>\n",
       "    <tr>\n",
       "      <th>B</th>\n",
       "      <td>1.303649</td>\n",
       "      <td>-2.227310</td>\n",
       "      <td>0.110510</td>\n",
       "      <td>0.623443</td>\n",
       "      <td>0.033628</td>\n",
       "      <td>1.337277</td>\n",
       "    </tr>\n",
       "    <tr>\n",
       "      <th>C</th>\n",
       "      <td>-1.055505</td>\n",
       "      <td>-0.509395</td>\n",
       "      <td>-1.955441</td>\n",
       "      <td>0.398752</td>\n",
       "      <td>-1.575644</td>\n",
       "      <td>-2.631148</td>\n",
       "    </tr>\n",
       "    <tr>\n",
       "      <th>D</th>\n",
       "      <td>0.681370</td>\n",
       "      <td>-1.119191</td>\n",
       "      <td>-0.970821</td>\n",
       "      <td>0.587449</td>\n",
       "      <td>0.443261</td>\n",
       "      <td>1.124631</td>\n",
       "    </tr>\n",
       "    <tr>\n",
       "      <th>E</th>\n",
       "      <td>1.696422</td>\n",
       "      <td>0.533214</td>\n",
       "      <td>0.895963</td>\n",
       "      <td>-0.306065</td>\n",
       "      <td>-0.520742</td>\n",
       "      <td>1.175681</td>\n",
       "    </tr>\n",
       "  </tbody>\n",
       "</table>\n",
       "</div>"
      ],
      "text/plain": [
       "          V         W         X         Y         Z         U\n",
       "A  0.371695  0.002657 -0.552025  0.149300 -1.185246 -0.813550\n",
       "B  1.303649 -2.227310  0.110510  0.623443  0.033628  1.337277\n",
       "C -1.055505 -0.509395 -1.955441  0.398752 -1.575644 -2.631148\n",
       "D  0.681370 -1.119191 -0.970821  0.587449  0.443261  1.124631\n",
       "E  1.696422  0.533214  0.895963 -0.306065 -0.520742  1.175681"
      ]
     },
     "execution_count": 72,
     "metadata": {},
     "output_type": "execute_result"
    }
   ],
   "source": [
    "df"
   ]
  },
  {
   "cell_type": "code",
   "execution_count": 73,
   "id": "fbceb091",
   "metadata": {
    "scrolled": true
   },
   "outputs": [
    {
     "data": {
      "text/plain": [
       "X   -0.970821\n",
       "Z    0.443261\n",
       "Name: D, dtype: float64"
      ]
     },
     "execution_count": 73,
     "metadata": {},
     "output_type": "execute_result"
    }
   ],
   "source": [
    "df.iloc[3][['X','Z']]"
   ]
  },
  {
   "cell_type": "code",
   "execution_count": 74,
   "id": "64bc4fc8",
   "metadata": {},
   "outputs": [
    {
     "data": {
      "text/plain": [
       "X   -0.970821\n",
       "Z    0.443261\n",
       "Name: D, dtype: float64"
      ]
     },
     "execution_count": 74,
     "metadata": {},
     "output_type": "execute_result"
    }
   ],
   "source": [
    "df[['X','Z']].loc['D']"
   ]
  },
  {
   "cell_type": "code",
   "execution_count": 75,
   "id": "3199fbd9",
   "metadata": {},
   "outputs": [
    {
     "data": {
      "text/plain": [
       "X   -0.970821\n",
       "Z    0.443261\n",
       "Name: D, dtype: float64"
      ]
     },
     "execution_count": 75,
     "metadata": {},
     "output_type": "execute_result"
    }
   ],
   "source": [
    "df[['X','Z']].iloc[3]"
   ]
  },
  {
   "cell_type": "code",
   "execution_count": 76,
   "id": "9f8db083",
   "metadata": {},
   "outputs": [],
   "source": [
    "## to grab row use iloc or loc "
   ]
  },
  {
   "cell_type": "code",
   "execution_count": 77,
   "id": "a97af89e",
   "metadata": {},
   "outputs": [
    {
     "data": {
      "text/html": [
       "<div>\n",
       "<style scoped>\n",
       "    .dataframe tbody tr th:only-of-type {\n",
       "        vertical-align: middle;\n",
       "    }\n",
       "\n",
       "    .dataframe tbody tr th {\n",
       "        vertical-align: top;\n",
       "    }\n",
       "\n",
       "    .dataframe thead th {\n",
       "        text-align: right;\n",
       "    }\n",
       "</style>\n",
       "<table border=\"1\" class=\"dataframe\">\n",
       "  <thead>\n",
       "    <tr style=\"text-align: right;\">\n",
       "      <th></th>\n",
       "      <th>V</th>\n",
       "      <th>W</th>\n",
       "      <th>X</th>\n",
       "      <th>Y</th>\n",
       "      <th>Z</th>\n",
       "      <th>U</th>\n",
       "    </tr>\n",
       "  </thead>\n",
       "  <tbody>\n",
       "    <tr>\n",
       "      <th>A</th>\n",
       "      <td>0.371695</td>\n",
       "      <td>0.002657</td>\n",
       "      <td>-0.552025</td>\n",
       "      <td>0.149300</td>\n",
       "      <td>-1.185246</td>\n",
       "      <td>-0.813550</td>\n",
       "    </tr>\n",
       "    <tr>\n",
       "      <th>B</th>\n",
       "      <td>1.303649</td>\n",
       "      <td>-2.227310</td>\n",
       "      <td>0.110510</td>\n",
       "      <td>0.623443</td>\n",
       "      <td>0.033628</td>\n",
       "      <td>1.337277</td>\n",
       "    </tr>\n",
       "    <tr>\n",
       "      <th>C</th>\n",
       "      <td>-1.055505</td>\n",
       "      <td>-0.509395</td>\n",
       "      <td>-1.955441</td>\n",
       "      <td>0.398752</td>\n",
       "      <td>-1.575644</td>\n",
       "      <td>-2.631148</td>\n",
       "    </tr>\n",
       "    <tr>\n",
       "      <th>D</th>\n",
       "      <td>0.681370</td>\n",
       "      <td>-1.119191</td>\n",
       "      <td>-0.970821</td>\n",
       "      <td>0.587449</td>\n",
       "      <td>0.443261</td>\n",
       "      <td>1.124631</td>\n",
       "    </tr>\n",
       "    <tr>\n",
       "      <th>E</th>\n",
       "      <td>1.696422</td>\n",
       "      <td>0.533214</td>\n",
       "      <td>0.895963</td>\n",
       "      <td>-0.306065</td>\n",
       "      <td>-0.520742</td>\n",
       "      <td>1.175681</td>\n",
       "    </tr>\n",
       "  </tbody>\n",
       "</table>\n",
       "</div>"
      ],
      "text/plain": [
       "          V         W         X         Y         Z         U\n",
       "A  0.371695  0.002657 -0.552025  0.149300 -1.185246 -0.813550\n",
       "B  1.303649 -2.227310  0.110510  0.623443  0.033628  1.337277\n",
       "C -1.055505 -0.509395 -1.955441  0.398752 -1.575644 -2.631148\n",
       "D  0.681370 -1.119191 -0.970821  0.587449  0.443261  1.124631\n",
       "E  1.696422  0.533214  0.895963 -0.306065 -0.520742  1.175681"
      ]
     },
     "execution_count": 77,
     "metadata": {},
     "output_type": "execute_result"
    }
   ],
   "source": [
    "df.head() # this will return the "
   ]
  },
  {
   "cell_type": "code",
   "execution_count": 78,
   "id": "bb9fc004",
   "metadata": {},
   "outputs": [
    {
     "data": {
      "text/html": [
       "<div>\n",
       "<style scoped>\n",
       "    .dataframe tbody tr th:only-of-type {\n",
       "        vertical-align: middle;\n",
       "    }\n",
       "\n",
       "    .dataframe tbody tr th {\n",
       "        vertical-align: top;\n",
       "    }\n",
       "\n",
       "    .dataframe thead th {\n",
       "        text-align: right;\n",
       "    }\n",
       "</style>\n",
       "<table border=\"1\" class=\"dataframe\">\n",
       "  <thead>\n",
       "    <tr style=\"text-align: right;\">\n",
       "      <th></th>\n",
       "      <th>V</th>\n",
       "      <th>W</th>\n",
       "      <th>X</th>\n",
       "      <th>Y</th>\n",
       "      <th>Z</th>\n",
       "      <th>U</th>\n",
       "    </tr>\n",
       "  </thead>\n",
       "  <tbody>\n",
       "    <tr>\n",
       "      <th>A</th>\n",
       "      <td>0.371695</td>\n",
       "      <td>0.002657</td>\n",
       "      <td>-0.552025</td>\n",
       "      <td>0.149300</td>\n",
       "      <td>-1.185246</td>\n",
       "      <td>-0.813550</td>\n",
       "    </tr>\n",
       "    <tr>\n",
       "      <th>B</th>\n",
       "      <td>1.303649</td>\n",
       "      <td>-2.227310</td>\n",
       "      <td>0.110510</td>\n",
       "      <td>0.623443</td>\n",
       "      <td>0.033628</td>\n",
       "      <td>1.337277</td>\n",
       "    </tr>\n",
       "    <tr>\n",
       "      <th>C</th>\n",
       "      <td>-1.055505</td>\n",
       "      <td>-0.509395</td>\n",
       "      <td>-1.955441</td>\n",
       "      <td>0.398752</td>\n",
       "      <td>-1.575644</td>\n",
       "      <td>-2.631148</td>\n",
       "    </tr>\n",
       "    <tr>\n",
       "      <th>D</th>\n",
       "      <td>0.681370</td>\n",
       "      <td>-1.119191</td>\n",
       "      <td>-0.970821</td>\n",
       "      <td>0.587449</td>\n",
       "      <td>0.443261</td>\n",
       "      <td>1.124631</td>\n",
       "    </tr>\n",
       "    <tr>\n",
       "      <th>E</th>\n",
       "      <td>1.696422</td>\n",
       "      <td>0.533214</td>\n",
       "      <td>0.895963</td>\n",
       "      <td>-0.306065</td>\n",
       "      <td>-0.520742</td>\n",
       "      <td>1.175681</td>\n",
       "    </tr>\n",
       "  </tbody>\n",
       "</table>\n",
       "</div>"
      ],
      "text/plain": [
       "          V         W         X         Y         Z         U\n",
       "A  0.371695  0.002657 -0.552025  0.149300 -1.185246 -0.813550\n",
       "B  1.303649 -2.227310  0.110510  0.623443  0.033628  1.337277\n",
       "C -1.055505 -0.509395 -1.955441  0.398752 -1.575644 -2.631148\n",
       "D  0.681370 -1.119191 -0.970821  0.587449  0.443261  1.124631\n",
       "E  1.696422  0.533214  0.895963 -0.306065 -0.520742  1.175681"
      ]
     },
     "execution_count": 78,
     "metadata": {},
     "output_type": "execute_result"
    }
   ],
   "source": [
    "df.tail() # this will reutnr the last five rows of your data frame"
   ]
  },
  {
   "cell_type": "code",
   "execution_count": 79,
   "id": "267f53ba",
   "metadata": {},
   "outputs": [
    {
     "data": {
      "text/html": [
       "<div>\n",
       "<style scoped>\n",
       "    .dataframe tbody tr th:only-of-type {\n",
       "        vertical-align: middle;\n",
       "    }\n",
       "\n",
       "    .dataframe tbody tr th {\n",
       "        vertical-align: top;\n",
       "    }\n",
       "\n",
       "    .dataframe thead th {\n",
       "        text-align: right;\n",
       "    }\n",
       "</style>\n",
       "<table border=\"1\" class=\"dataframe\">\n",
       "  <thead>\n",
       "    <tr style=\"text-align: right;\">\n",
       "      <th></th>\n",
       "      <th>V</th>\n",
       "      <th>W</th>\n",
       "      <th>X</th>\n",
       "      <th>Y</th>\n",
       "      <th>Z</th>\n",
       "      <th>U</th>\n",
       "    </tr>\n",
       "  </thead>\n",
       "  <tbody>\n",
       "    <tr>\n",
       "      <th>D</th>\n",
       "      <td>0.681370</td>\n",
       "      <td>-1.119191</td>\n",
       "      <td>-0.970821</td>\n",
       "      <td>0.587449</td>\n",
       "      <td>0.443261</td>\n",
       "      <td>1.124631</td>\n",
       "    </tr>\n",
       "    <tr>\n",
       "      <th>E</th>\n",
       "      <td>1.696422</td>\n",
       "      <td>0.533214</td>\n",
       "      <td>0.895963</td>\n",
       "      <td>-0.306065</td>\n",
       "      <td>-0.520742</td>\n",
       "      <td>1.175681</td>\n",
       "    </tr>\n",
       "  </tbody>\n",
       "</table>\n",
       "</div>"
      ],
      "text/plain": [
       "          V         W         X         Y         Z         U\n",
       "D  0.681370 -1.119191 -0.970821  0.587449  0.443261  1.124631\n",
       "E  1.696422  0.533214  0.895963 -0.306065 -0.520742  1.175681"
      ]
     },
     "execution_count": 79,
     "metadata": {},
     "output_type": "execute_result"
    }
   ],
   "source": [
    "df.tail(2)"
   ]
  },
  {
   "cell_type": "markdown",
   "id": "f44bed03",
   "metadata": {},
   "source": [
    "* # Concatinate "
   ]
  },
  {
   "cell_type": "code",
   "execution_count": 80,
   "id": "35bfb2a4",
   "metadata": {},
   "outputs": [],
   "source": [
    "df1 = pd.DataFrame({'A':['A0', 'A1', 'A2', 'A3'],\n",
    "                    'B':['B0', 'B1', 'B2', 'B3'],\n",
    "                    'C':['C0', 'C1', 'C2', 'C3']},index =[0,1,2,3])\n",
    "import pandas as pd "
   ]
  },
  {
   "cell_type": "code",
   "execution_count": 81,
   "id": "0de70883",
   "metadata": {},
   "outputs": [],
   "source": [
    "df2 = pd.DataFrame({'A':['A4', 'A5', 'A6', 'A7'],\n",
    "                    'B':['B4', 'B5', 'B6', 'B7'],\n",
    "                    'C':['C4', 'C5', 'C6', 'C7']},index =[0,1,2,3])"
   ]
  },
  {
   "cell_type": "code",
   "execution_count": 82,
   "id": "99df99e9",
   "metadata": {},
   "outputs": [
    {
     "data": {
      "text/html": [
       "<div>\n",
       "<style scoped>\n",
       "    .dataframe tbody tr th:only-of-type {\n",
       "        vertical-align: middle;\n",
       "    }\n",
       "\n",
       "    .dataframe tbody tr th {\n",
       "        vertical-align: top;\n",
       "    }\n",
       "\n",
       "    .dataframe thead th {\n",
       "        text-align: right;\n",
       "    }\n",
       "</style>\n",
       "<table border=\"1\" class=\"dataframe\">\n",
       "  <thead>\n",
       "    <tr style=\"text-align: right;\">\n",
       "      <th></th>\n",
       "      <th>A</th>\n",
       "      <th>B</th>\n",
       "      <th>C</th>\n",
       "    </tr>\n",
       "  </thead>\n",
       "  <tbody>\n",
       "    <tr>\n",
       "      <th>0</th>\n",
       "      <td>A0</td>\n",
       "      <td>B0</td>\n",
       "      <td>C0</td>\n",
       "    </tr>\n",
       "    <tr>\n",
       "      <th>1</th>\n",
       "      <td>A1</td>\n",
       "      <td>B1</td>\n",
       "      <td>C1</td>\n",
       "    </tr>\n",
       "    <tr>\n",
       "      <th>2</th>\n",
       "      <td>A2</td>\n",
       "      <td>B2</td>\n",
       "      <td>C2</td>\n",
       "    </tr>\n",
       "    <tr>\n",
       "      <th>3</th>\n",
       "      <td>A3</td>\n",
       "      <td>B3</td>\n",
       "      <td>C3</td>\n",
       "    </tr>\n",
       "    <tr>\n",
       "      <th>0</th>\n",
       "      <td>A4</td>\n",
       "      <td>B4</td>\n",
       "      <td>C4</td>\n",
       "    </tr>\n",
       "    <tr>\n",
       "      <th>1</th>\n",
       "      <td>A5</td>\n",
       "      <td>B5</td>\n",
       "      <td>C5</td>\n",
       "    </tr>\n",
       "    <tr>\n",
       "      <th>2</th>\n",
       "      <td>A6</td>\n",
       "      <td>B6</td>\n",
       "      <td>C6</td>\n",
       "    </tr>\n",
       "    <tr>\n",
       "      <th>3</th>\n",
       "      <td>A7</td>\n",
       "      <td>B7</td>\n",
       "      <td>C7</td>\n",
       "    </tr>\n",
       "  </tbody>\n",
       "</table>\n",
       "</div>"
      ],
      "text/plain": [
       "    A   B   C\n",
       "0  A0  B0  C0\n",
       "1  A1  B1  C1\n",
       "2  A2  B2  C2\n",
       "3  A3  B3  C3\n",
       "0  A4  B4  C4\n",
       "1  A5  B5  C5\n",
       "2  A6  B6  C6\n",
       "3  A7  B7  C7"
      ]
     },
     "execution_count": 82,
     "metadata": {},
     "output_type": "execute_result"
    }
   ],
   "source": [
    "pd.concat([df1,df2])"
   ]
  },
  {
   "cell_type": "code",
   "execution_count": 83,
   "id": "9444ccb6",
   "metadata": {},
   "outputs": [
    {
     "data": {
      "text/html": [
       "<div>\n",
       "<style scoped>\n",
       "    .dataframe tbody tr th:only-of-type {\n",
       "        vertical-align: middle;\n",
       "    }\n",
       "\n",
       "    .dataframe tbody tr th {\n",
       "        vertical-align: top;\n",
       "    }\n",
       "\n",
       "    .dataframe thead th {\n",
       "        text-align: right;\n",
       "    }\n",
       "</style>\n",
       "<table border=\"1\" class=\"dataframe\">\n",
       "  <thead>\n",
       "    <tr style=\"text-align: right;\">\n",
       "      <th></th>\n",
       "      <th>A</th>\n",
       "      <th>B</th>\n",
       "      <th>C</th>\n",
       "      <th>A</th>\n",
       "      <th>B</th>\n",
       "      <th>C</th>\n",
       "    </tr>\n",
       "  </thead>\n",
       "  <tbody>\n",
       "    <tr>\n",
       "      <th>0</th>\n",
       "      <td>A0</td>\n",
       "      <td>B0</td>\n",
       "      <td>C0</td>\n",
       "      <td>A4</td>\n",
       "      <td>B4</td>\n",
       "      <td>C4</td>\n",
       "    </tr>\n",
       "    <tr>\n",
       "      <th>1</th>\n",
       "      <td>A1</td>\n",
       "      <td>B1</td>\n",
       "      <td>C1</td>\n",
       "      <td>A5</td>\n",
       "      <td>B5</td>\n",
       "      <td>C5</td>\n",
       "    </tr>\n",
       "    <tr>\n",
       "      <th>2</th>\n",
       "      <td>A2</td>\n",
       "      <td>B2</td>\n",
       "      <td>C2</td>\n",
       "      <td>A6</td>\n",
       "      <td>B6</td>\n",
       "      <td>C6</td>\n",
       "    </tr>\n",
       "    <tr>\n",
       "      <th>3</th>\n",
       "      <td>A3</td>\n",
       "      <td>B3</td>\n",
       "      <td>C3</td>\n",
       "      <td>A7</td>\n",
       "      <td>B7</td>\n",
       "      <td>C7</td>\n",
       "    </tr>\n",
       "  </tbody>\n",
       "</table>\n",
       "</div>"
      ],
      "text/plain": [
       "    A   B   C   A   B   C\n",
       "0  A0  B0  C0  A4  B4  C4\n",
       "1  A1  B1  C1  A5  B5  C5\n",
       "2  A2  B2  C2  A6  B6  C6\n",
       "3  A3  B3  C3  A7  B7  C7"
      ]
     },
     "execution_count": 83,
     "metadata": {},
     "output_type": "execute_result"
    }
   ],
   "source": [
    "pd.concat([df1,df2], axis=1)"
   ]
  },
  {
   "cell_type": "markdown",
   "id": "35ae9a8d",
   "metadata": {},
   "source": [
    "# : Merging and joining data frame\n",
    "\n",
    "## * Merging"
   ]
  },
  {
   "cell_type": "code",
   "execution_count": 95,
   "id": "39e6ab6e",
   "metadata": {},
   "outputs": [],
   "source": [
    "left = pd.DataFrame({'key':['K0', 'K1', 'K2', 'K3'],\n",
    "                    'A':['A0', 'A1', 'A2', 'A3'],\n",
    "                    'B':['B0', 'B1', 'B2', 'B3']}) \n",
    "                    \n",
    "right = pd.DataFrame({'key':['K0', 'K1', 'K2', 'K3'],\n",
    "                    'C':['C0', 'C1', 'C2', 'C3'],\n",
    "                    'D':['D0', 'D1', 'D2', 'D3']})"
   ]
  },
  {
   "cell_type": "code",
   "execution_count": 96,
   "id": "6f043ccd",
   "metadata": {},
   "outputs": [
    {
     "data": {
      "text/html": [
       "<div>\n",
       "<style scoped>\n",
       "    .dataframe tbody tr th:only-of-type {\n",
       "        vertical-align: middle;\n",
       "    }\n",
       "\n",
       "    .dataframe tbody tr th {\n",
       "        vertical-align: top;\n",
       "    }\n",
       "\n",
       "    .dataframe thead th {\n",
       "        text-align: right;\n",
       "    }\n",
       "</style>\n",
       "<table border=\"1\" class=\"dataframe\">\n",
       "  <thead>\n",
       "    <tr style=\"text-align: right;\">\n",
       "      <th></th>\n",
       "      <th>key</th>\n",
       "      <th>A</th>\n",
       "      <th>B</th>\n",
       "      <th>C</th>\n",
       "      <th>D</th>\n",
       "    </tr>\n",
       "  </thead>\n",
       "  <tbody>\n",
       "    <tr>\n",
       "      <th>0</th>\n",
       "      <td>K0</td>\n",
       "      <td>A0</td>\n",
       "      <td>B0</td>\n",
       "      <td>C0</td>\n",
       "      <td>D0</td>\n",
       "    </tr>\n",
       "    <tr>\n",
       "      <th>1</th>\n",
       "      <td>K1</td>\n",
       "      <td>A1</td>\n",
       "      <td>B1</td>\n",
       "      <td>C1</td>\n",
       "      <td>D1</td>\n",
       "    </tr>\n",
       "    <tr>\n",
       "      <th>2</th>\n",
       "      <td>K2</td>\n",
       "      <td>A2</td>\n",
       "      <td>B2</td>\n",
       "      <td>C2</td>\n",
       "      <td>D2</td>\n",
       "    </tr>\n",
       "    <tr>\n",
       "      <th>3</th>\n",
       "      <td>K3</td>\n",
       "      <td>A3</td>\n",
       "      <td>B3</td>\n",
       "      <td>C3</td>\n",
       "      <td>D3</td>\n",
       "    </tr>\n",
       "  </tbody>\n",
       "</table>\n",
       "</div>"
      ],
      "text/plain": [
       "  key   A   B   C   D\n",
       "0  K0  A0  B0  C0  D0\n",
       "1  K1  A1  B1  C1  D1\n",
       "2  K2  A2  B2  C2  D2\n",
       "3  K3  A3  B3  C3  D3"
      ]
     },
     "execution_count": 96,
     "metadata": {},
     "output_type": "execute_result"
    }
   ],
   "source": [
    "pd.merge(left,right,how='inner', on='key')"
   ]
  },
  {
   "cell_type": "code",
   "execution_count": 104,
   "id": "69dc76b9",
   "metadata": {
    "scrolled": true
   },
   "outputs": [],
   "source": [
    "left = pd.DataFrame({'A':['A0', 'A1', 'A2'],\n",
    "                    'B':['B0', 'B1', 'B2']},\n",
    "                     index= ['K0', 'K1', 'K2'])\n",
    "                    \n",
    "                    \n",
    "right = pd.DataFrame({'C':['C0', 'C2', 'C3'],\n",
    "                    'D':['D0', 'D2', 'D3']},\n",
    "                      index=['K0', 'K2', 'K3'])"
   ]
  },
  {
   "cell_type": "code",
   "execution_count": 102,
   "id": "04015e5f",
   "metadata": {},
   "outputs": [
    {
     "data": {
      "text/html": [
       "<div>\n",
       "<style scoped>\n",
       "    .dataframe tbody tr th:only-of-type {\n",
       "        vertical-align: middle;\n",
       "    }\n",
       "\n",
       "    .dataframe tbody tr th {\n",
       "        vertical-align: top;\n",
       "    }\n",
       "\n",
       "    .dataframe thead th {\n",
       "        text-align: right;\n",
       "    }\n",
       "</style>\n",
       "<table border=\"1\" class=\"dataframe\">\n",
       "  <thead>\n",
       "    <tr style=\"text-align: right;\">\n",
       "      <th></th>\n",
       "      <th>A</th>\n",
       "      <th>B</th>\n",
       "    </tr>\n",
       "  </thead>\n",
       "  <tbody>\n",
       "    <tr>\n",
       "      <th>K0</th>\n",
       "      <td>A0</td>\n",
       "      <td>B0</td>\n",
       "    </tr>\n",
       "    <tr>\n",
       "      <th>K1</th>\n",
       "      <td>A1</td>\n",
       "      <td>B1</td>\n",
       "    </tr>\n",
       "    <tr>\n",
       "      <th>K2</th>\n",
       "      <td>A2</td>\n",
       "      <td>B2</td>\n",
       "    </tr>\n",
       "  </tbody>\n",
       "</table>\n",
       "</div>"
      ],
      "text/plain": [
       "     A   B\n",
       "K0  A0  B0\n",
       "K1  A1  B1\n",
       "K2  A2  B2"
      ]
     },
     "execution_count": 102,
     "metadata": {},
     "output_type": "execute_result"
    }
   ],
   "source": [
    "left"
   ]
  },
  {
   "cell_type": "code",
   "execution_count": 99,
   "id": "6ada1028",
   "metadata": {},
   "outputs": [
    {
     "data": {
      "text/html": [
       "<div>\n",
       "<style scoped>\n",
       "    .dataframe tbody tr th:only-of-type {\n",
       "        vertical-align: middle;\n",
       "    }\n",
       "\n",
       "    .dataframe tbody tr th {\n",
       "        vertical-align: top;\n",
       "    }\n",
       "\n",
       "    .dataframe thead th {\n",
       "        text-align: right;\n",
       "    }\n",
       "</style>\n",
       "<table border=\"1\" class=\"dataframe\">\n",
       "  <thead>\n",
       "    <tr style=\"text-align: right;\">\n",
       "      <th></th>\n",
       "      <th>A</th>\n",
       "      <th>B</th>\n",
       "    </tr>\n",
       "  </thead>\n",
       "  <tbody>\n",
       "    <tr>\n",
       "      <th>K0</th>\n",
       "      <td>A0</td>\n",
       "      <td>B0</td>\n",
       "    </tr>\n",
       "    <tr>\n",
       "      <th>K1</th>\n",
       "      <td>A1</td>\n",
       "      <td>B1</td>\n",
       "    </tr>\n",
       "    <tr>\n",
       "      <th>K2</th>\n",
       "      <td>A2</td>\n",
       "      <td>B2</td>\n",
       "    </tr>\n",
       "  </tbody>\n",
       "</table>\n",
       "</div>"
      ],
      "text/plain": [
       "     A   B\n",
       "K0  A0  B0\n",
       "K1  A1  B1\n",
       "K2  A2  B2"
      ]
     },
     "metadata": {},
     "output_type": "display_data"
    },
    {
     "data": {
      "text/html": [
       "<div>\n",
       "<style scoped>\n",
       "    .dataframe tbody tr th:only-of-type {\n",
       "        vertical-align: middle;\n",
       "    }\n",
       "\n",
       "    .dataframe tbody tr th {\n",
       "        vertical-align: top;\n",
       "    }\n",
       "\n",
       "    .dataframe thead th {\n",
       "        text-align: right;\n",
       "    }\n",
       "</style>\n",
       "<table border=\"1\" class=\"dataframe\">\n",
       "  <thead>\n",
       "    <tr style=\"text-align: right;\">\n",
       "      <th></th>\n",
       "      <th>C</th>\n",
       "      <th>D</th>\n",
       "    </tr>\n",
       "  </thead>\n",
       "  <tbody>\n",
       "    <tr>\n",
       "      <th>K0</th>\n",
       "      <td>C0</td>\n",
       "      <td>D0</td>\n",
       "    </tr>\n",
       "    <tr>\n",
       "      <th>K2</th>\n",
       "      <td>C2</td>\n",
       "      <td>D2</td>\n",
       "    </tr>\n",
       "    <tr>\n",
       "      <th>K3</th>\n",
       "      <td>C3</td>\n",
       "      <td>D3</td>\n",
       "    </tr>\n",
       "  </tbody>\n",
       "</table>\n",
       "</div>"
      ],
      "text/plain": [
       "     C   D\n",
       "K0  C0  D0\n",
       "K2  C2  D2\n",
       "K3  C3  D3"
      ]
     },
     "metadata": {},
     "output_type": "display_data"
    }
   ],
   "source": [
    "display(left,right)"
   ]
  },
  {
   "cell_type": "code",
   "execution_count": 100,
   "id": "7230a9ea",
   "metadata": {},
   "outputs": [
    {
     "data": {
      "text/html": [
       "<div>\n",
       "<style scoped>\n",
       "    .dataframe tbody tr th:only-of-type {\n",
       "        vertical-align: middle;\n",
       "    }\n",
       "\n",
       "    .dataframe tbody tr th {\n",
       "        vertical-align: top;\n",
       "    }\n",
       "\n",
       "    .dataframe thead th {\n",
       "        text-align: right;\n",
       "    }\n",
       "</style>\n",
       "<table border=\"1\" class=\"dataframe\">\n",
       "  <thead>\n",
       "    <tr style=\"text-align: right;\">\n",
       "      <th></th>\n",
       "      <th>A</th>\n",
       "      <th>B</th>\n",
       "      <th>C</th>\n",
       "      <th>D</th>\n",
       "    </tr>\n",
       "  </thead>\n",
       "  <tbody>\n",
       "    <tr>\n",
       "      <th>K0</th>\n",
       "      <td>A0</td>\n",
       "      <td>B0</td>\n",
       "      <td>C0</td>\n",
       "      <td>D0</td>\n",
       "    </tr>\n",
       "    <tr>\n",
       "      <th>K1</th>\n",
       "      <td>A1</td>\n",
       "      <td>B1</td>\n",
       "      <td>NaN</td>\n",
       "      <td>NaN</td>\n",
       "    </tr>\n",
       "    <tr>\n",
       "      <th>K2</th>\n",
       "      <td>A2</td>\n",
       "      <td>B2</td>\n",
       "      <td>C2</td>\n",
       "      <td>D2</td>\n",
       "    </tr>\n",
       "  </tbody>\n",
       "</table>\n",
       "</div>"
      ],
      "text/plain": [
       "     A   B    C    D\n",
       "K0  A0  B0   C0   D0\n",
       "K1  A1  B1  NaN  NaN\n",
       "K2  A2  B2   C2   D2"
      ]
     },
     "execution_count": 100,
     "metadata": {},
     "output_type": "execute_result"
    }
   ],
   "source": [
    "left.join(right)"
   ]
  },
  {
   "cell_type": "code",
   "execution_count": null,
   "id": "8dbe1f23",
   "metadata": {},
   "outputs": [],
   "source": []
  },
  {
   "cell_type": "code",
   "execution_count": null,
   "id": "f6fb6baf",
   "metadata": {},
   "outputs": [],
   "source": []
  },
  {
   "cell_type": "code",
   "execution_count": null,
   "id": "1bd7d30d",
   "metadata": {},
   "outputs": [],
   "source": []
  },
  {
   "cell_type": "code",
   "execution_count": null,
   "id": "53935f34",
   "metadata": {},
   "outputs": [],
   "source": []
  }
 ],
 "metadata": {
  "kernelspec": {
   "display_name": "Python 3 (ipykernel)",
   "language": "python",
   "name": "python3"
  },
  "language_info": {
   "codemirror_mode": {
    "name": "ipython",
    "version": 3
   },
   "file_extension": ".py",
   "mimetype": "text/x-python",
   "name": "python",
   "nbconvert_exporter": "python",
   "pygments_lexer": "ipython3",
   "version": "3.9.12"
  }
 },
 "nbformat": 4,
 "nbformat_minor": 5
}
