{
 "cells": [
  {
   "cell_type": "markdown",
   "id": "07e0e347",
   "metadata": {},
   "source": [
    "#082922 \n",
    "*Data types \n",
    "    *Numbers \n",
    "    *Strings\n",
    "    *Variable Assignment\n",
    "    *Printing\n",
    "    *Strings methods\n",
    "    *Lists\n",
    "    *Lists\n",
    "    *Dictionaaries\n",
    "    *Boolians \n",
    "    *Tuples\n",
    "    *Sets \n",
    "    \n",
    "*Basic Operations \n",
    "    *Comparison Operators\n",
    "    *if, elif, else statements\n",
    "    *for loops \n",
    "    *while loops \n",
    "    *range()\n",
    "    *list comprehension\n",
    "    *functions\n",
    "    *lamda expressions\n",
    "    *map and filter\n",
    "    "
   ]
  },
  {
   "cell_type": "markdown",
   "id": "0b976cf2",
   "metadata": {},
   "source": [
    "* Integers: ...-5,-4,-3,-2,-1,0,1,2,3,4....."
   ]
  },
  {
   "cell_type": "markdown",
   "id": "e069210d",
   "metadata": {},
   "source": [
    "* Floats: decimals, rationals, irrationals \n",
    "* Ex is $\\pi$, $\\frac{1}{3}$\n"
   ]
  },
  {
   "cell_type": "markdown",
   "id": "fdd524cc",
   "metadata": {},
   "source": []
  },
  {
   "cell_type": "markdown",
   "id": "8eebbc51",
   "metadata": {},
   "source": [
    "* Strings: Example \"Moussa\", 'Howard', ' ', '2', '%' "
   ]
  },
  {
   "cell_type": "code",
   "execution_count": 1,
   "id": "a4b4b2b1",
   "metadata": {},
   "outputs": [
    {
     "name": "stdout",
     "output_type": "stream",
     "text": [
      "<class 'str'>\n"
     ]
    }
   ],
   "source": [
    "print(type('I am single quote'))"
   ]
  },
  {
   "cell_type": "markdown",
   "id": "258c7708",
   "metadata": {},
   "source": [
    "* Variable Assignment: 2x = \"Hello\" - not allowed \n",
    "* can do this x2=\"Hello\", x_2 =\"Hello\" \n",
    "* Don't do this 10=x, but x=10 \n",
    "* Don't do this y = 'World!\" "
   ]
  },
  {
   "cell_type": "code",
   "execution_count": 2,
   "id": "926309cf",
   "metadata": {},
   "outputs": [
    {
     "name": "stdout",
     "output_type": "stream",
     "text": [
      "<class 'str'>\n"
     ]
    }
   ],
   "source": [
    "print(type(\"I am double quotes\"))"
   ]
  },
  {
   "cell_type": "markdown",
   "id": "73e993e1",
   "metadata": {},
   "source": [
    "* Printing"
   ]
  },
  {
   "cell_type": "code",
   "execution_count": 3,
   "id": "9a2b892a",
   "metadata": {},
   "outputs": [
    {
     "name": "stdout",
     "output_type": "stream",
     "text": [
      "Alissa Tory\n"
     ]
    }
   ],
   "source": [
    "Name = 'Alissa Tory'\n",
    "print(Name)"
   ]
  },
  {
   "cell_type": "code",
   "execution_count": 4,
   "id": "bb56f22c",
   "metadata": {},
   "outputs": [
    {
     "data": {
      "text/plain": [
       "'Alissa Tory'"
      ]
     },
     "execution_count": 4,
     "metadata": {},
     "output_type": "execute_result"
    }
   ],
   "source": [
    "Name "
   ]
  },
  {
   "cell_type": "code",
   "execution_count": 5,
   "id": "0ec39e89",
   "metadata": {},
   "outputs": [
    {
     "name": "stdout",
     "output_type": "stream",
     "text": [
      "Greetings John  Johnson Welcome to our company\n"
     ]
    }
   ],
   "source": [
    "New_First = \"John \"\n",
    "New_Last = \"Johnson\"\n",
    "print(\"Greetings\" , New_First, New_Last, 'Welcome to our company')"
   ]
  },
  {
   "cell_type": "code",
   "execution_count": 6,
   "id": "080d2ea4",
   "metadata": {},
   "outputs": [
    {
     "name": "stdout",
     "output_type": "stream",
     "text": [
      "Greetings,John Johnson\n"
     ]
    }
   ],
   "source": [
    "print('Greetings,{}{}' .format(New_First, New_Last))"
   ]
  },
  {
   "cell_type": "code",
   "execution_count": 7,
   "id": "ab2db94b",
   "metadata": {},
   "outputs": [
    {
     "name": "stdout",
     "output_type": "stream",
     "text": [
      "Hello!,John \n"
     ]
    }
   ],
   "source": [
    "print(f\"Hello!,{New_First}\") "
   ]
  },
  {
   "cell_type": "markdown",
   "id": "80764654",
   "metadata": {},
   "source": []
  },
  {
   "cell_type": "code",
   "execution_count": 9,
   "id": "bfc0a9a0",
   "metadata": {},
   "outputs": [],
   "source": [
    "name = 'Emani'\n",
    "Greetings = 'Welcome to data science class'"
   ]
  },
  {
   "cell_type": "code",
   "execution_count": 1,
   "id": "ffb22302",
   "metadata": {},
   "outputs": [
    {
     "ename": "NameError",
     "evalue": "name 'name' is not defined",
     "output_type": "error",
     "traceback": [
      "\u001b[0;31m---------------------------------------------------------------------------\u001b[0m",
      "\u001b[0;31mNameError\u001b[0m                                 Traceback (most recent call last)",
      "Input \u001b[0;32mIn [1]\u001b[0m, in \u001b[0;36m<cell line: 1>\u001b[0;34m()\u001b[0m\n\u001b[0;32m----> 1\u001b[0m \u001b[38;5;28mprint\u001b[39m(\u001b[38;5;124m'\u001b[39m\u001b[38;5;124mHello \u001b[39m\u001b[38;5;132;01m{}\u001b[39;00m\u001b[38;5;130;01m\\n\u001b[39;00m\u001b[38;5;124m \u001b[39m\u001b[38;5;132;01m{}\u001b[39;00m\u001b[38;5;124m'\u001b[39m\u001b[38;5;241m.\u001b[39mformat(\u001b[43mname\u001b[49m, Greetings))\n",
      "\u001b[0;31mNameError\u001b[0m: name 'name' is not defined"
     ]
    }
   ],
   "source": [
    "print('Hello {}\\n {}'.format(name, Greetings))"
   ]
  },
  {
   "cell_type": "code",
   "execution_count": 2,
   "id": "d8ca5cce",
   "metadata": {},
   "outputs": [
    {
     "ename": "NameError",
     "evalue": "name 'Greetings' is not defined",
     "output_type": "error",
     "traceback": [
      "\u001b[0;31m---------------------------------------------------------------------------\u001b[0m",
      "\u001b[0;31mNameError\u001b[0m                                 Traceback (most recent call last)",
      "Input \u001b[0;32mIn [2]\u001b[0m, in \u001b[0;36m<cell line: 1>\u001b[0;34m()\u001b[0m\n\u001b[0;32m----> 1\u001b[0m \u001b[38;5;28mprint\u001b[39m(\u001b[38;5;124m'\u001b[39m\u001b[38;5;124mHello \u001b[39m\u001b[38;5;132;01m{one}\u001b[39;00m\u001b[38;5;130;01m\\n\u001b[39;00m\u001b[38;5;124m \u001b[39m\u001b[38;5;132;01m{two}\u001b[39;00m\u001b[38;5;124m'\u001b[39m\u001b[38;5;241m.\u001b[39mformat(two\u001b[38;5;241m=\u001b[39m\u001b[43mGreetings\u001b[49m, one \u001b[38;5;241m=\u001b[39mname))\n",
      "\u001b[0;31mNameError\u001b[0m: name 'Greetings' is not defined"
     ]
    }
   ],
   "source": [
    "print('Hello {one}\\n {two}'.format(two=Greetings, one =name))"
   ]
  },
  {
   "cell_type": "code",
   "execution_count": 16,
   "id": "1637f5b9",
   "metadata": {},
   "outputs": [
    {
     "name": "stdout",
     "output_type": "stream",
     "text": [
      "Hello Emani Welcome to data science class\n"
     ]
    }
   ],
   "source": [
    "print('Hello ' + name +' '+ Greetings)"
   ]
  },
  {
   "cell_type": "markdown",
   "id": "376c807e",
   "metadata": {},
   "source": [
    "* ### Strings Methods "
   ]
  },
  {
   "cell_type": "code",
   "execution_count": 17,
   "id": "cc1af1f6",
   "metadata": {},
   "outputs": [],
   "source": [
    "# Upper () method\n",
    "name = 'naomi'"
   ]
  },
  {
   "cell_type": "code",
   "execution_count": 19,
   "id": "307a8d58",
   "metadata": {},
   "outputs": [
    {
     "name": "stdout",
     "output_type": "stream",
     "text": [
      "NAOMI\n"
     ]
    }
   ],
   "source": [
    "print(name.upper())"
   ]
  },
  {
   "cell_type": "code",
   "execution_count": 20,
   "id": "89290e1e",
   "metadata": {},
   "outputs": [
    {
     "name": "stdout",
     "output_type": "stream",
     "text": [
      "Naomi\n"
     ]
    }
   ],
   "source": [
    " # Title method \n",
    "print(name.title())"
   ]
  },
  {
   "cell_type": "code",
   "execution_count": 24,
   "id": "c66cd59c",
   "metadata": {},
   "outputs": [],
   "source": [
    "# Lower() method\n",
    "second_name = 'JOHN'"
   ]
  },
  {
   "cell_type": "code",
   "execution_count": 25,
   "id": "76e836b6",
   "metadata": {},
   "outputs": [
    {
     "name": "stdout",
     "output_type": "stream",
     "text": [
      "john\n"
     ]
    }
   ],
   "source": [
    "print(second_name.lower())"
   ]
  },
  {
   "cell_type": "code",
   "execution_count": 26,
   "id": "e603e884",
   "metadata": {},
   "outputs": [],
   "source": [
    "# Center () method \n",
    "center_name = 'Saujane'"
   ]
  },
  {
   "cell_type": "code",
   "execution_count": 28,
   "id": "3062cd13",
   "metadata": {},
   "outputs": [
    {
     "name": "stdout",
     "output_type": "stream",
     "text": [
      "                          Saujane                           \n"
     ]
    }
   ],
   "source": [
    "print (center_name.center(60))"
   ]
  },
  {
   "cell_type": "code",
   "execution_count": 29,
   "id": "871b1ba4",
   "metadata": {},
   "outputs": [
    {
     "name": "stdout",
     "output_type": "stream",
     "text": [
      "1\n"
     ]
    }
   ],
   "source": [
    "# Count() method \n",
    "print(center_name.count('S'))"
   ]
  },
  {
   "cell_type": "code",
   "execution_count": 30,
   "id": "efed8d8d",
   "metadata": {},
   "outputs": [
    {
     "name": "stdout",
     "output_type": "stream",
     "text": [
      "2\n"
     ]
    }
   ],
   "source": [
    "# Count() method \n",
    "print(center_name.count('a'))"
   ]
  },
  {
   "cell_type": "code",
   "execution_count": 31,
   "id": "de8de562",
   "metadata": {},
   "outputs": [
    {
     "name": "stdout",
     "output_type": "stream",
     "text": [
      "False\n"
     ]
    }
   ],
   "source": [
    "# Endwith() method\n",
    "print(center_name.endswith('s'))"
   ]
  },
  {
   "cell_type": "code",
   "execution_count": 32,
   "id": "a247513d",
   "metadata": {},
   "outputs": [
    {
     "name": "stdout",
     "output_type": "stream",
     "text": [
      "True\n"
     ]
    }
   ],
   "source": [
    "# Endwith() method\n",
    "print(center_name.endswith('e'))"
   ]
  },
  {
   "cell_type": "code",
   "execution_count": 33,
   "id": "d6618739",
   "metadata": {},
   "outputs": [],
   "source": [
    "# Isnumeric() method \n",
    "num = '123'"
   ]
  },
  {
   "cell_type": "code",
   "execution_count": 34,
   "id": "0b5daea6",
   "metadata": {},
   "outputs": [
    {
     "data": {
      "text/plain": [
       "str"
      ]
     },
     "execution_count": 34,
     "metadata": {},
     "output_type": "execute_result"
    }
   ],
   "source": [
    "type(num)"
   ]
  },
  {
   "cell_type": "code",
   "execution_count": 36,
   "id": "3430ed23",
   "metadata": {},
   "outputs": [
    {
     "name": "stdout",
     "output_type": "stream",
     "text": [
      "True\n"
     ]
    }
   ],
   "source": [
    "print(num.isnumeric())"
   ]
  },
  {
   "cell_type": "code",
   "execution_count": 37,
   "id": "c74996b0",
   "metadata": {},
   "outputs": [],
   "source": [
    "num_1 = num.isnumeric()"
   ]
  },
  {
   "cell_type": "code",
   "execution_count": 38,
   "id": "8e756a9b",
   "metadata": {},
   "outputs": [
    {
     "data": {
      "text/plain": [
       "bool"
      ]
     },
     "execution_count": 38,
     "metadata": {},
     "output_type": "execute_result"
    }
   ],
   "source": [
    "type(num_1) "
   ]
  },
  {
   "cell_type": "code",
   "execution_count": 40,
   "id": "a93f9e6b",
   "metadata": {},
   "outputs": [],
   "source": [
    "# strip method \n",
    "last_name = '     Smith    '"
   ]
  },
  {
   "cell_type": "code",
   "execution_count": 41,
   "id": "67f96696",
   "metadata": {},
   "outputs": [
    {
     "data": {
      "text/plain": [
       "14"
      ]
     },
     "execution_count": 41,
     "metadata": {},
     "output_type": "execute_result"
    }
   ],
   "source": [
    "len(last_name)"
   ]
  },
  {
   "cell_type": "code",
   "execution_count": 42,
   "id": "f227dd3c",
   "metadata": {},
   "outputs": [],
   "source": [
    "r_name = last_name.rstrip()"
   ]
  },
  {
   "cell_type": "code",
   "execution_count": 43,
   "id": "7b448210",
   "metadata": {},
   "outputs": [
    {
     "data": {
      "text/plain": [
       "'     Smith'"
      ]
     },
     "execution_count": 43,
     "metadata": {},
     "output_type": "execute_result"
    }
   ],
   "source": [
    "r_name "
   ]
  },
  {
   "cell_type": "code",
   "execution_count": 44,
   "id": "687f63c6",
   "metadata": {},
   "outputs": [
    {
     "data": {
      "text/plain": [
       "10"
      ]
     },
     "execution_count": 44,
     "metadata": {},
     "output_type": "execute_result"
    }
   ],
   "source": [
    "len(r_name)"
   ]
  },
  {
   "cell_type": "code",
   "execution_count": 46,
   "id": "3f821f81",
   "metadata": {},
   "outputs": [],
   "source": [
    "l_name = last_name.lstrip()"
   ]
  },
  {
   "cell_type": "code",
   "execution_count": 47,
   "id": "e0d0f5c2",
   "metadata": {},
   "outputs": [
    {
     "data": {
      "text/plain": [
       "'Smith    '"
      ]
     },
     "execution_count": 47,
     "metadata": {},
     "output_type": "execute_result"
    }
   ],
   "source": [
    "l_name"
   ]
  },
  {
   "cell_type": "code",
   "execution_count": 48,
   "id": "f348bc1e",
   "metadata": {},
   "outputs": [
    {
     "data": {
      "text/plain": [
       "9"
      ]
     },
     "execution_count": 48,
     "metadata": {},
     "output_type": "execute_result"
    }
   ],
   "source": [
    "len(l_name)"
   ]
  },
  {
   "cell_type": "code",
   "execution_count": 49,
   "id": "e60e08a4",
   "metadata": {},
   "outputs": [],
   "source": [
    "sname = last_name.strip()"
   ]
  },
  {
   "cell_type": "code",
   "execution_count": 50,
   "id": "49341751",
   "metadata": {},
   "outputs": [
    {
     "data": {
      "text/plain": [
       "'Smith'"
      ]
     },
     "execution_count": 50,
     "metadata": {},
     "output_type": "execute_result"
    }
   ],
   "source": [
    "sname"
   ]
  },
  {
   "cell_type": "code",
   "execution_count": 51,
   "id": "70e48ca1",
   "metadata": {},
   "outputs": [
    {
     "data": {
      "text/plain": [
       "5"
      ]
     },
     "execution_count": 51,
     "metadata": {},
     "output_type": "execute_result"
    }
   ],
   "source": [
    "len(sname)"
   ]
  },
  {
   "cell_type": "markdown",
   "id": "dc17d53d",
   "metadata": {},
   "source": [
    "* ## List\n",
    "Lists are used to store multiple items in a single variable. List members are created inside square brackets "
   ]
  },
  {
   "cell_type": "code",
   "execution_count": 1,
   "id": "51ec1df6",
   "metadata": {},
   "outputs": [
    {
     "data": {
      "text/plain": [
       "['apple', 'orange', 'mango', 'banana']"
      ]
     },
     "execution_count": 1,
     "metadata": {},
     "output_type": "execute_result"
    }
   ],
   "source": [
    "a_list = ['apple', 'orange', 'mango', 'banana']\n",
    "a_list "
   ]
  },
  {
   "cell_type": "code",
   "execution_count": 2,
   "id": "b7796896",
   "metadata": {},
   "outputs": [
    {
     "data": {
      "text/plain": [
       "list"
      ]
     },
     "execution_count": 2,
     "metadata": {},
     "output_type": "execute_result"
    }
   ],
   "source": [
    "type(a_list)"
   ]
  },
  {
   "cell_type": "code",
   "execution_count": 3,
   "id": "ae9e9223",
   "metadata": {},
   "outputs": [],
   "source": [
    "# Append method \n",
    "a_list.append ('Peach')"
   ]
  },
  {
   "cell_type": "code",
   "execution_count": 4,
   "id": "2aff5dd6",
   "metadata": {},
   "outputs": [
    {
     "data": {
      "text/plain": [
       "['apple', 'orange', 'mango', 'banana', 'Peach']"
      ]
     },
     "execution_count": 4,
     "metadata": {},
     "output_type": "execute_result"
    }
   ],
   "source": [
    "a_list"
   ]
  },
  {
   "cell_type": "code",
   "execution_count": 5,
   "id": "6db86d1b",
   "metadata": {},
   "outputs": [
    {
     "data": {
      "text/plain": [
       "'orange'"
      ]
     },
     "execution_count": 5,
     "metadata": {},
     "output_type": "execute_result"
    }
   ],
   "source": [
    "# Pop method\n",
    "a_list.pop(1)"
   ]
  },
  {
   "cell_type": "code",
   "execution_count": 7,
   "id": "3ff5f049",
   "metadata": {},
   "outputs": [
    {
     "data": {
      "text/plain": [
       "'apple'"
      ]
     },
     "execution_count": 7,
     "metadata": {},
     "output_type": "execute_result"
    }
   ],
   "source": [
    "a_list[0] "
   ]
  },
  {
   "cell_type": "code",
   "execution_count": 8,
   "id": "f052a93a",
   "metadata": {},
   "outputs": [
    {
     "data": {
      "text/plain": [
       "'Peach'"
      ]
     },
     "execution_count": 8,
     "metadata": {},
     "output_type": "execute_result"
    }
   ],
   "source": [
    "a_list[-1]"
   ]
  },
  {
   "cell_type": "code",
   "execution_count": 9,
   "id": "4f234372",
   "metadata": {},
   "outputs": [
    {
     "data": {
      "text/plain": [
       "['apple', 'mango', 'banana', 'Peach']"
      ]
     },
     "execution_count": 9,
     "metadata": {},
     "output_type": "execute_result"
    }
   ],
   "source": [
    "a_list"
   ]
  },
  {
   "cell_type": "code",
   "execution_count": 10,
   "id": "24dfb277",
   "metadata": {},
   "outputs": [
    {
     "data": {
      "text/plain": [
       "'Peach'"
      ]
     },
     "execution_count": 10,
     "metadata": {},
     "output_type": "execute_result"
    }
   ],
   "source": [
    "a_list[3]"
   ]
  },
  {
   "cell_type": "code",
   "execution_count": 29,
   "id": "9945697e",
   "metadata": {},
   "outputs": [
    {
     "data": {
      "text/plain": [
       "['kit kat',\n",
       " 'skittles',\n",
       " 'm&ms',\n",
       " 'sour patch kids',\n",
       " 'dots',\n",
       " 'hersheys',\n",
       " 'sour straws',\n",
       " 'gummy bears',\n",
       " 'gummy worms',\n",
       " 'dried fruit']"
      ]
     },
     "execution_count": 29,
     "metadata": {},
     "output_type": "execute_result"
    }
   ],
   "source": [
    "b_list = ['kit kat', 'skittles', 'm&ms', 'sour patch kids', 'dots', 'hersheys', 'sour straws', 'gummy bears', 'gummy worms', 'dried fruit']\n",
    "b_list"
   ]
  },
  {
   "cell_type": "code",
   "execution_count": 30,
   "id": "277f16c6",
   "metadata": {},
   "outputs": [
    {
     "data": {
      "text/plain": [
       "list"
      ]
     },
     "execution_count": 30,
     "metadata": {},
     "output_type": "execute_result"
    }
   ],
   "source": [
    "type(b_list)"
   ]
  },
  {
   "cell_type": "code",
   "execution_count": 31,
   "id": "5073b5c7",
   "metadata": {},
   "outputs": [],
   "source": [
    "# Append method \n",
    "b_list.append ('dried fruit')"
   ]
  },
  {
   "cell_type": "code",
   "execution_count": 32,
   "id": "b693dfbb",
   "metadata": {},
   "outputs": [
    {
     "data": {
      "text/plain": [
       "['kit kat',\n",
       " 'skittles',\n",
       " 'm&ms',\n",
       " 'sour patch kids',\n",
       " 'dots',\n",
       " 'hersheys',\n",
       " 'sour straws',\n",
       " 'gummy bears',\n",
       " 'gummy worms',\n",
       " 'dried fruit',\n",
       " 'dried fruit']"
      ]
     },
     "execution_count": 32,
     "metadata": {},
     "output_type": "execute_result"
    }
   ],
   "source": [
    "b_list"
   ]
  },
  {
   "cell_type": "code",
   "execution_count": 33,
   "id": "cb8c7405",
   "metadata": {},
   "outputs": [
    {
     "data": {
      "text/plain": [
       "'skittles'"
      ]
     },
     "execution_count": 33,
     "metadata": {},
     "output_type": "execute_result"
    }
   ],
   "source": [
    "# Pop method \n",
    "b_list.pop(1)"
   ]
  },
  {
   "cell_type": "code",
   "execution_count": 34,
   "id": "583ecf56",
   "metadata": {},
   "outputs": [
    {
     "data": {
      "text/plain": [
       "['kit kat',\n",
       " 'm&ms',\n",
       " 'sour patch kids',\n",
       " 'dots',\n",
       " 'hersheys',\n",
       " 'sour straws',\n",
       " 'gummy bears',\n",
       " 'gummy worms',\n",
       " 'dried fruit',\n",
       " 'dried fruit']"
      ]
     },
     "execution_count": 34,
     "metadata": {},
     "output_type": "execute_result"
    }
   ],
   "source": [
    "b_list"
   ]
  },
  {
   "cell_type": "code",
   "execution_count": 35,
   "id": "6fe21fea",
   "metadata": {},
   "outputs": [
    {
     "data": {
      "text/plain": [
       "'dried fruit'"
      ]
     },
     "execution_count": 35,
     "metadata": {},
     "output_type": "execute_result"
    }
   ],
   "source": [
    "a_list[-1]"
   ]
  },
  {
   "cell_type": "code",
   "execution_count": null,
   "id": "c044c5f4",
   "metadata": {},
   "outputs": [],
   "source": []
  },
  {
   "cell_type": "markdown",
   "id": "db19a1df",
   "metadata": {},
   "source": [
    "* ## Dictionaries\n",
    "Are used to store key: value. The item in a dictionary are created inside curly brackets {}"
   ]
  },
  {
   "cell_type": "code",
   "execution_count": 46,
   "id": "d759d4dc",
   "metadata": {},
   "outputs": [
    {
     "data": {
      "text/plain": [
       "{'Make': 'Toyota', 'Model': 'Land Cruiser', 'Year': 2022}"
      ]
     },
     "execution_count": 46,
     "metadata": {},
     "output_type": "execute_result"
    }
   ],
   "source": [
    "#Exp: \n",
    "cars = {'Make':'Toyota', 'Model':'Land Cruiser','Year':2022}\n",
    "cars"
   ]
  },
  {
   "cell_type": "code",
   "execution_count": 47,
   "id": "1096a3ef",
   "metadata": {},
   "outputs": [
    {
     "data": {
      "text/plain": [
       "'Toyota'"
      ]
     },
     "execution_count": 47,
     "metadata": {},
     "output_type": "execute_result"
    }
   ],
   "source": [
    "cars ['Make'] "
   ]
  },
  {
   "cell_type": "code",
   "execution_count": 48,
   "id": "2d6d0b46",
   "metadata": {},
   "outputs": [
    {
     "data": {
      "text/plain": [
       "{'Make': 'Toyota', 'Model': 'Land Cruiser', 'Year': 2023}"
      ]
     },
     "execution_count": 48,
     "metadata": {},
     "output_type": "execute_result"
    }
   ],
   "source": [
    "cars ['Year'] = 2023\n",
    "cars"
   ]
  },
  {
   "cell_type": "code",
   "execution_count": 50,
   "id": "d476e164",
   "metadata": {},
   "outputs": [
    {
     "data": {
      "text/plain": [
       "{'Make': 'Toyota', 'Model': 'Land Cruiser', 'Year': 2023, 'Color': 'Black'}"
      ]
     },
     "execution_count": 50,
     "metadata": {},
     "output_type": "execute_result"
    }
   ],
   "source": [
    "cars ['Color'] ='Black'\n",
    "cars"
   ]
  },
  {
   "cell_type": "code",
   "execution_count": 51,
   "id": "6f7db821",
   "metadata": {},
   "outputs": [
    {
     "data": {
      "text/plain": [
       "dict_keys(['Make', 'Model', 'Year', 'Color'])"
      ]
     },
     "execution_count": 51,
     "metadata": {},
     "output_type": "execute_result"
    }
   ],
   "source": [
    "cars.keys()"
   ]
  },
  {
   "cell_type": "code",
   "execution_count": 52,
   "id": "3fe79c6d",
   "metadata": {},
   "outputs": [
    {
     "data": {
      "text/plain": [
       "dict_values(['Toyota', 'Land Cruiser', 2023, 'Black'])"
      ]
     },
     "execution_count": 52,
     "metadata": {},
     "output_type": "execute_result"
    }
   ],
   "source": [
    "cars.values()"
   ]
  },
  {
   "cell_type": "code",
   "execution_count": 53,
   "id": "e24e2fda",
   "metadata": {},
   "outputs": [
    {
     "data": {
      "text/plain": [
       "dict_items([('Make', 'Toyota'), ('Model', 'Land Cruiser'), ('Year', 2023), ('Color', 'Black')])"
      ]
     },
     "execution_count": 53,
     "metadata": {},
     "output_type": "execute_result"
    }
   ],
   "source": [
    "cars.items()"
   ]
  },
  {
   "cell_type": "code",
   "execution_count": 54,
   "id": "649f3926",
   "metadata": {},
   "outputs": [
    {
     "data": {
      "text/plain": [
       "{'Make': 'Ford', 'Model': 'Fusion', 'Year': 2014}"
      ]
     },
     "execution_count": 54,
     "metadata": {},
     "output_type": "execute_result"
    }
   ],
   "source": [
    "#Exp: \n",
    "cars = {'Make': 'Ford', 'Model': 'Fusion', 'Year': 2014}\n",
    "cars"
   ]
  },
  {
   "cell_type": "code",
   "execution_count": 55,
   "id": "1262ac57",
   "metadata": {},
   "outputs": [
    {
     "data": {
      "text/plain": [
       "'Ford'"
      ]
     },
     "execution_count": 55,
     "metadata": {},
     "output_type": "execute_result"
    }
   ],
   "source": [
    "cars ['Make']"
   ]
  },
  {
   "cell_type": "code",
   "execution_count": 56,
   "id": "dbe5551d",
   "metadata": {},
   "outputs": [
    {
     "data": {
      "text/plain": [
       "{'Make': 'Ford', 'Model': 'Fusion', 'Year': 2019}"
      ]
     },
     "execution_count": 56,
     "metadata": {},
     "output_type": "execute_result"
    }
   ],
   "source": [
    "cars ['Year'] = 2019\n",
    "cars"
   ]
  },
  {
   "cell_type": "code",
   "execution_count": 57,
   "id": "0fbe27c6",
   "metadata": {},
   "outputs": [
    {
     "data": {
      "text/plain": [
       "{'Make': 'Ford', 'Model': 'Fusion', 'Year': 2019, 'Color': 'Gray'}"
      ]
     },
     "execution_count": 57,
     "metadata": {},
     "output_type": "execute_result"
    }
   ],
   "source": [
    "cars ['Color'] = 'Gray'\n",
    "cars"
   ]
  },
  {
   "cell_type": "code",
   "execution_count": 58,
   "id": "dbbf9ca2",
   "metadata": {},
   "outputs": [
    {
     "data": {
      "text/plain": [
       "dict_keys(['Make', 'Model', 'Year', 'Color'])"
      ]
     },
     "execution_count": 58,
     "metadata": {},
     "output_type": "execute_result"
    }
   ],
   "source": [
    "cars.keys()"
   ]
  },
  {
   "cell_type": "code",
   "execution_count": null,
   "id": "a1a9c9d8",
   "metadata": {
    "scrolled": true
   },
   "outputs": [],
   "source": []
  },
  {
   "cell_type": "markdown",
   "id": "3960d720",
   "metadata": {},
   "source": [
    "* # Booleans"
   ]
  },
  {
   "cell_type": "code",
   "execution_count": 3,
   "id": "9aadfd3f",
   "metadata": {},
   "outputs": [
    {
     "name": "stdout",
     "output_type": "stream",
     "text": [
      "False\n"
     ]
    }
   ],
   "source": [
    "print(True == False)"
   ]
  },
  {
   "cell_type": "code",
   "execution_count": 4,
   "id": "b2d7ef11",
   "metadata": {},
   "outputs": [
    {
     "name": "stdout",
     "output_type": "stream",
     "text": [
      "True\n"
     ]
    }
   ],
   "source": [
    "print((2>3) or (12<56))"
   ]
  },
  {
   "cell_type": "code",
   "execution_count": 5,
   "id": "d1584dde",
   "metadata": {},
   "outputs": [
    {
     "name": "stdout",
     "output_type": "stream",
     "text": [
      "True\n"
     ]
    }
   ],
   "source": [
    "print((2>3) | (12<56))"
   ]
  },
  {
   "cell_type": "code",
   "execution_count": 7,
   "id": "99d8c78c",
   "metadata": {},
   "outputs": [
    {
     "name": "stdout",
     "output_type": "stream",
     "text": [
      "False\n"
     ]
    }
   ],
   "source": [
    "print((2>3) and (12<56))"
   ]
  },
  {
   "cell_type": "code",
   "execution_count": 9,
   "id": "38f25985",
   "metadata": {},
   "outputs": [
    {
     "name": "stdout",
     "output_type": "stream",
     "text": [
      "False\n"
     ]
    }
   ],
   "source": [
    "print((2>3) & (12<56))"
   ]
  },
  {
   "cell_type": "code",
   "execution_count": 10,
   "id": "a9aa9ebb",
   "metadata": {},
   "outputs": [
    {
     "name": "stdout",
     "output_type": "stream",
     "text": [
      "False\n"
     ]
    }
   ],
   "source": [
    "print(10==9)"
   ]
  },
  {
   "cell_type": "code",
   "execution_count": 11,
   "id": "c2c1689c",
   "metadata": {},
   "outputs": [
    {
     "name": "stdout",
     "output_type": "stream",
     "text": [
      "True\n"
     ]
    }
   ],
   "source": [
    "print(10 != 9)"
   ]
  },
  {
   "cell_type": "markdown",
   "id": "8f84ae48",
   "metadata": {},
   "source": [
    "* # Tuples are unmutable object "
   ]
  },
  {
   "cell_type": "code",
   "execution_count": 13,
   "id": "5e2653c8",
   "metadata": {},
   "outputs": [],
   "source": [
    "t = (1,2,3,4,5)"
   ]
  },
  {
   "cell_type": "code",
   "execution_count": 14,
   "id": "64e23d74",
   "metadata": {},
   "outputs": [],
   "source": [
    "a,b,c,d,e = t"
   ]
  },
  {
   "cell_type": "code",
   "execution_count": 15,
   "id": "ba5c65bf",
   "metadata": {},
   "outputs": [
    {
     "data": {
      "text/plain": [
       "1"
      ]
     },
     "execution_count": 15,
     "metadata": {},
     "output_type": "execute_result"
    }
   ],
   "source": [
    "a"
   ]
  },
  {
   "cell_type": "code",
   "execution_count": 16,
   "id": "e3ae6ab5",
   "metadata": {},
   "outputs": [
    {
     "data": {
      "text/plain": [
       "2"
      ]
     },
     "execution_count": 16,
     "metadata": {},
     "output_type": "execute_result"
    }
   ],
   "source": [
    "b"
   ]
  },
  {
   "cell_type": "code",
   "execution_count": 17,
   "id": "9822192c",
   "metadata": {},
   "outputs": [
    {
     "data": {
      "text/plain": [
       "3"
      ]
     },
     "execution_count": 17,
     "metadata": {},
     "output_type": "execute_result"
    }
   ],
   "source": [
    "c"
   ]
  },
  {
   "cell_type": "code",
   "execution_count": 18,
   "id": "1369d403",
   "metadata": {},
   "outputs": [
    {
     "data": {
      "text/plain": [
       "4"
      ]
     },
     "execution_count": 18,
     "metadata": {},
     "output_type": "execute_result"
    }
   ],
   "source": [
    "d"
   ]
  },
  {
   "cell_type": "code",
   "execution_count": 20,
   "id": "eb5d3ac2",
   "metadata": {},
   "outputs": [
    {
     "data": {
      "text/plain": [
       "5"
      ]
     },
     "execution_count": 20,
     "metadata": {},
     "output_type": "execute_result"
    }
   ],
   "source": [
    "e"
   ]
  },
  {
   "cell_type": "code",
   "execution_count": 22,
   "id": "a8253690",
   "metadata": {},
   "outputs": [
    {
     "data": {
      "text/plain": [
       "2"
      ]
     },
     "execution_count": 22,
     "metadata": {},
     "output_type": "execute_result"
    }
   ],
   "source": [
    "t[1]"
   ]
  },
  {
   "cell_type": "code",
   "execution_count": 23,
   "id": "d75e3ff4",
   "metadata": {},
   "outputs": [
    {
     "data": {
      "text/plain": [
       "5"
      ]
     },
     "execution_count": 23,
     "metadata": {},
     "output_type": "execute_result"
    }
   ],
   "source": [
    "t[-1]"
   ]
  },
  {
   "cell_type": "code",
   "execution_count": 24,
   "id": "73c9541e",
   "metadata": {},
   "outputs": [
    {
     "ename": "TypeError",
     "evalue": "'tuple' object does not support item assignment",
     "output_type": "error",
     "traceback": [
      "\u001b[0;31m---------------------------------------------------------------------------\u001b[0m",
      "\u001b[0;31mTypeError\u001b[0m                                 Traceback (most recent call last)",
      "Input \u001b[0;32mIn [24]\u001b[0m, in \u001b[0;36m<cell line: 1>\u001b[0;34m()\u001b[0m\n\u001b[0;32m----> 1\u001b[0m t[\u001b[38;5;241m3\u001b[39m]\u001b[38;5;241m=\u001b[39m\u001b[38;5;241m100\u001b[39m\n",
      "\u001b[0;31mTypeError\u001b[0m: 'tuple' object does not support item assignment"
     ]
    }
   ],
   "source": [
    "t[3]=100"
   ]
  },
  {
   "cell_type": "markdown",
   "id": "8d244d4c",
   "metadata": {},
   "source": [
    "* # Sets: Do not repeat set member"
   ]
  },
  {
   "cell_type": "code",
   "execution_count": 29,
   "id": "fcd2f67e",
   "metadata": {},
   "outputs": [],
   "source": [
    "l = [1,1,1,2,3,3,3,4,5,6,7,7,7,8,9,9,9]"
   ]
  },
  {
   "cell_type": "code",
   "execution_count": 33,
   "id": "80436723",
   "metadata": {},
   "outputs": [
    {
     "data": {
      "text/plain": [
       "{1, 2, 3, 4, 5, 6, 7, 8, 9}"
      ]
     },
     "execution_count": 33,
     "metadata": {},
     "output_type": "execute_result"
    }
   ],
   "source": [
    "s1 = set(l)\n",
    "s1"
   ]
  },
  {
   "cell_type": "markdown",
   "id": "2ed2c3ad",
   "metadata": {},
   "source": [
    " # Basic operations\n",
    "* # if, eif, else statements"
   ]
  },
  {
   "cell_type": "markdown",
   "id": "7b96a09d",
   "metadata": {},
   "source": []
  },
  {
   "cell_type": "code",
   "execution_count": 35,
   "id": "0f93d3f9",
   "metadata": {},
   "outputs": [],
   "source": [
    "seq = [1,2,3,4,5,6,7,8,9]"
   ]
  },
  {
   "cell_type": "code",
   "execution_count": 36,
   "id": "3083a542",
   "metadata": {},
   "outputs": [],
   "source": [
    "my_list = ['John', 'Jon', 'Josh', 'Abel', 'Mike', 'Sean', 'West', 'Abdul']"
   ]
  },
  {
   "cell_type": "code",
   "execution_count": 37,
   "id": "0459fe76",
   "metadata": {},
   "outputs": [],
   "source": [
    "name = 'Mia'"
   ]
  },
  {
   "cell_type": "code",
   "execution_count": 38,
   "id": "7e7bdbaf",
   "metadata": {},
   "outputs": [
    {
     "name": "stdout",
     "output_type": "stream",
     "text": [
      "Not a student\n"
     ]
    }
   ],
   "source": [
    "if name in my_list: \n",
    "    print('Student')\n",
    "else: \n",
    "    print('Not a student')"
   ]
  },
  {
   "cell_type": "code",
   "execution_count": 39,
   "id": "1cb7b372",
   "metadata": {},
   "outputs": [],
   "source": [
    "new = 'John'"
   ]
  },
  {
   "cell_type": "code",
   "execution_count": 41,
   "id": "b125a782",
   "metadata": {},
   "outputs": [
    {
     "name": "stdout",
     "output_type": "stream",
     "text": [
      "Student\n"
     ]
    }
   ],
   "source": [
    "if new in my_list: \n",
    "    print('Student')\n",
    "elif new[0]== 'J':\n",
    "    print('Sounds familiar')\n",
    "else: \n",
    "    print('Not a student')"
   ]
  },
  {
   "cell_type": "code",
   "execution_count": 42,
   "id": "2840f555",
   "metadata": {},
   "outputs": [],
   "source": [
    "new = 'Johns'"
   ]
  },
  {
   "cell_type": "code",
   "execution_count": 43,
   "id": "170ba3d7",
   "metadata": {},
   "outputs": [
    {
     "name": "stdout",
     "output_type": "stream",
     "text": [
      "Sounds familiar\n"
     ]
    }
   ],
   "source": [
    "if new in my_list: \n",
    "    print('Student')\n",
    "elif new[0]== 'J':\n",
    "    print('Sounds familiar')\n",
    "else: \n",
    "    print('Not a student')"
   ]
  },
  {
   "cell_type": "code",
   "execution_count": 46,
   "id": "cd365d78",
   "metadata": {},
   "outputs": [
    {
     "name": "stdout",
     "output_type": "stream",
     "text": [
      "Sounds familiar\n"
     ]
    }
   ],
   "source": [
    "if new in my_list: \n",
    "    print('Student')\n",
    "elif new[0].lower() == 'j':\n",
    "    print('Sounds familiar')\n",
    "else: \n",
    "    print('Not a student')"
   ]
  },
  {
   "cell_type": "code",
   "execution_count": null,
   "id": "522fae97",
   "metadata": {},
   "outputs": [],
   "source": []
  }
 ],
 "metadata": {
  "kernelspec": {
   "display_name": "Python 3 (ipykernel)",
   "language": "python",
   "name": "python3"
  },
  "language_info": {
   "codemirror_mode": {
    "name": "ipython",
    "version": 3
   },
   "file_extension": ".py",
   "mimetype": "text/x-python",
   "name": "python",
   "nbconvert_exporter": "python",
   "pygments_lexer": "ipython3",
   "version": "3.9.12"
  }
 },
 "nbformat": 4,
 "nbformat_minor": 5
}
